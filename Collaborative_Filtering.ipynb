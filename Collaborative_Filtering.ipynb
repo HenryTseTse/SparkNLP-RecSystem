{
 "cells": [
  {
   "cell_type": "markdown",
   "id": "3b3950d7",
   "metadata": {},
   "source": [
    "### Importing Libraries"
   ]
  },
  {
   "cell_type": "code",
   "execution_count": 1,
   "id": "ff887a8c",
   "metadata": {},
   "outputs": [],
   "source": [
    "import os\n",
    "import pyspark\n",
    "import pandas as pd\n",
    "import numpy as np\n",
    "import matplotlib.pyplot as plt"
   ]
  },
  {
   "cell_type": "markdown",
   "id": "1f9e53d1",
   "metadata": {},
   "source": [
    "### Spark Configuration"
   ]
  },
  {
   "cell_type": "code",
   "execution_count": 2,
   "id": "4c83637b",
   "metadata": {},
   "outputs": [
    {
     "name": "stderr",
     "output_type": "stream",
     "text": [
      "WARNING: An illegal reflective access operation has occurred\n",
      "WARNING: Illegal reflective access by org.apache.spark.unsafe.Platform (file:/opt/conda/envs/bigdata/lib/python3.8/site-packages/pyspark/jars/spark-unsafe_2.12-3.2.1.jar) to constructor java.nio.DirectByteBuffer(long,int)\n",
      "WARNING: Please consider reporting this to the maintainers of org.apache.spark.unsafe.Platform\n",
      "WARNING: Use --illegal-access=warn to enable warnings of further illegal reflective access operations\n",
      "WARNING: All illegal access operations will be denied in a future release\n",
      "Using Spark's default log4j profile: org/apache/spark/log4j-defaults.properties\n",
      "Setting default log level to \"WARN\".\n",
      "To adjust logging level use sc.setLogLevel(newLevel). For SparkR, use setLogLevel(newLevel).\n",
      "22/05/11 10:46:28 WARN NativeCodeLoader: Unable to load native-hadoop library for your platform... using builtin-java classes where applicable\n",
      "/opt/conda/envs/bigdata/lib/python3.8/site-packages/pyspark/sql/context.py:125: FutureWarning: Deprecated in 3.0.0. Use SparkSession.builder.getOrCreate() instead.\n",
      "  warnings.warn(\n"
     ]
    }
   ],
   "source": [
    "conf = pyspark.SparkConf()\n",
    "\n",
    "conf.set('spark.ui.proxyBase', '/user/' + os.environ['JUPYTERHUB_USER'] + '/proxy/4041')\n",
    "conf.set('spark.sql.repl.eagerEval.enabled', True)\n",
    "conf.set('spark.driver.memory','8g')\n",
    "sc = pyspark.SparkContext(conf=conf)\n",
    "\n",
    "spark = pyspark.SQLContext.getOrCreate(sc)\n",
    "from pyspark.sql.functions import *"
   ]
  },
  {
   "cell_type": "markdown",
   "id": "d6de0a89",
   "metadata": {},
   "source": [
    "### Importing Data"
   ]
  },
  {
   "cell_type": "code",
   "execution_count": 3,
   "id": "f95d0d7d",
   "metadata": {},
   "outputs": [
    {
     "name": "stderr",
     "output_type": "stream",
     "text": [
      "                                                                                \r"
     ]
    }
   ],
   "source": [
    "df = spark\\\n",
    ".read\\\n",
    ".option(\"inferSchema\",\"true\")\\\n",
    ".option(\"header\", \"true\")\\\n",
    ".csv(\"ratings.csv\")"
   ]
  },
  {
   "cell_type": "markdown",
   "id": "2194a573",
   "metadata": {},
   "source": [
    "### DataSet Information"
   ]
  },
  {
   "cell_type": "code",
   "execution_count": 4,
   "id": "55c5a98e",
   "metadata": {},
   "outputs": [
    {
     "name": "stdout",
     "output_type": "stream",
     "text": [
      "root\n",
      " |-- userId: integer (nullable = true)\n",
      " |-- movieId: integer (nullable = true)\n",
      " |-- rating: double (nullable = true)\n",
      " |-- timestamp: integer (nullable = true)\n",
      "\n"
     ]
    }
   ],
   "source": [
    "df.printSchema()"
   ]
  },
  {
   "cell_type": "code",
   "execution_count": 7,
   "id": "fdb02fab",
   "metadata": {},
   "outputs": [
    {
     "name": "stderr",
     "output_type": "stream",
     "text": [
      "                                                                                \r"
     ]
    },
    {
     "data": {
      "text/plain": [
       "27688188"
      ]
     },
     "execution_count": 7,
     "metadata": {},
     "output_type": "execute_result"
    }
   ],
   "source": [
    "df.count()"
   ]
  },
  {
   "cell_type": "code",
   "execution_count": 7,
   "id": "6df59a2b",
   "metadata": {},
   "outputs": [
    {
     "name": "stdout",
     "output_type": "stream",
     "text": [
      "+------+-------+------+----------+\n",
      "|userId|movieId|rating| timestamp|\n",
      "+------+-------+------+----------+\n",
      "|     1|    307|   3.5|1256677221|\n",
      "|     1|    481|   3.5|1256677456|\n",
      "|     1|   1091|   1.5|1256677471|\n",
      "|     1|   1257|   4.5|1256677460|\n",
      "|     1|   1449|   4.5|1256677264|\n",
      "+------+-------+------+----------+\n",
      "only showing top 5 rows\n",
      "\n"
     ]
    }
   ],
   "source": [
    "df.show(5)"
   ]
  },
  {
   "cell_type": "markdown",
   "id": "7076a938",
   "metadata": {},
   "source": [
    "### Dropping TimeStamp Column"
   ]
  },
  {
   "cell_type": "code",
   "execution_count": 8,
   "id": "25c759a3",
   "metadata": {},
   "outputs": [
    {
     "name": "stdout",
     "output_type": "stream",
     "text": [
      "+------+-------+------+\n",
      "|userId|movieId|rating|\n",
      "+------+-------+------+\n",
      "|     1|    307|   3.5|\n",
      "|     1|    481|   3.5|\n",
      "|     1|   1091|   1.5|\n",
      "|     1|   1257|   4.5|\n",
      "|     1|   1449|   4.5|\n",
      "+------+-------+------+\n",
      "only showing top 5 rows\n",
      "\n"
     ]
    }
   ],
   "source": [
    "df=df.drop('timestamp')\n",
    "df.show(5)"
   ]
  },
  {
   "cell_type": "markdown",
   "id": "e9a8d8db",
   "metadata": {},
   "source": [
    "### Split Data into Train and Test"
   ]
  },
  {
   "cell_type": "markdown",
   "id": "09bdece0",
   "metadata": {},
   "source": [
    "## Exploratory Data Analysis"
   ]
  },
  {
   "cell_type": "markdown",
   "id": "e4005e47",
   "metadata": {},
   "source": [
    "### Number of Unique Movies"
   ]
  },
  {
   "cell_type": "code",
   "execution_count": 4,
   "id": "4be16731",
   "metadata": {},
   "outputs": [],
   "source": [
    "df.createOrReplaceTempView(\"df_movies\")"
   ]
  },
  {
   "cell_type": "code",
   "execution_count": 5,
   "id": "1d7560d4",
   "metadata": {},
   "outputs": [
    {
     "name": "stderr",
     "output_type": "stream",
     "text": [
      "[Stage 2:=================================================>         (5 + 1) / 6]\r"
     ]
    },
    {
     "name": "stdout",
     "output_type": "stream",
     "text": [
      "+-------------+\n",
      "|Unique_Movies|\n",
      "+-------------+\n",
      "|        53885|\n",
      "+-------------+\n",
      "\n"
     ]
    },
    {
     "name": "stderr",
     "output_type": "stream",
     "text": [
      "                                                                                \r"
     ]
    }
   ],
   "source": [
    "q1=spark.sql(\"\"\" select count(distinct(movieId)) as Unique_Movies\n",
    "             from df_movies \"\"\")\n",
    "q1.show()"
   ]
  },
  {
   "cell_type": "markdown",
   "id": "500ea015",
   "metadata": {},
   "source": [
    "### Number of Unique Users"
   ]
  },
  {
   "cell_type": "code",
   "execution_count": 6,
   "id": "ed9004dd",
   "metadata": {},
   "outputs": [
    {
     "name": "stderr",
     "output_type": "stream",
     "text": [
      "[Stage 8:=================================================>         (5 + 1) / 6]\r"
     ]
    },
    {
     "name": "stdout",
     "output_type": "stream",
     "text": [
      "+------------+\n",
      "|Unique_Users|\n",
      "+------------+\n",
      "|      282472|\n",
      "+------------+\n",
      "\n"
     ]
    },
    {
     "name": "stderr",
     "output_type": "stream",
     "text": [
      "                                                                                \r"
     ]
    }
   ],
   "source": [
    "q2=spark.sql(\"\"\" select count(distinct(userId)) as Unique_Users\n",
    "             from df_movies \"\"\")\n",
    "q2.show()"
   ]
  },
  {
   "cell_type": "markdown",
   "id": "e85a2f72",
   "metadata": {},
   "source": [
    "### Ratings Distribution"
   ]
  },
  {
   "cell_type": "code",
   "execution_count": 8,
   "id": "5d0b0775",
   "metadata": {},
   "outputs": [
    {
     "name": "stderr",
     "output_type": "stream",
     "text": [
      "                                                                                \r"
     ]
    },
    {
     "data": {
      "text/plain": [
       "(array([ 441017.,  883945.,  440537., 1846607., 1370896., 5502982.,\n",
       "        3397246., 7376251., 2367834., 4060873.]),\n",
       " array([0.5 , 0.95, 1.4 , 1.85, 2.3 , 2.75, 3.2 , 3.65, 4.1 , 4.55, 5.  ]),\n",
       " <a list of 10 Patch objects>)"
      ]
     },
     "execution_count": 8,
     "metadata": {},
     "output_type": "execute_result"
    },
    {
     "data": {
      "image/png": "[encoded data removed]",
      "text/plain": [
       "<Figure size 432x288 with 1 Axes>"
      ]
     },
     "metadata": {
      "needs_background": "light"
     },
     "output_type": "display_data"
    }
   ],
   "source": [
    "ratings=df.select('rating').rdd.flatMap(lambda x: x).collect()\n",
    "plt.hist(ratings,10)"
   ]
  },
  {
   "cell_type": "markdown",
   "id": "b08b3dcd",
   "metadata": {},
   "source": [
    "### Minimum and Maximum number of ratings given by an user"
   ]
  },
  {
   "cell_type": "code",
   "execution_count": 11,
   "id": "8f89e0ee",
   "metadata": {},
   "outputs": [],
   "source": [
    "#Split the data into train and test set\n",
    "train, test = df.randomSplit([0.8,0.2])"
   ]
  },
  {
   "cell_type": "code",
   "execution_count": 12,
   "id": "de862928",
   "metadata": {},
   "outputs": [
    {
     "name": "stderr",
     "output_type": "stream",
     "text": [
      "                                                                                \r"
     ]
    },
    {
     "name": "stdout",
     "output_type": "stream",
     "text": [
      "Max User Count: 18915\n",
      "Min User Count: 1\n"
     ]
    }
   ],
   "source": [
    "#GroupBy movie ratings to check for the number of users\n",
    "user_count = train.groupBy('userId').count().toPandas()\n",
    "print('Max User Count: {}'.format(user_count['count'].max()))\n",
    "print('Min User Count: {}'.format(user_count['count'].min()))"
   ]
  },
  {
   "cell_type": "code",
   "execution_count": 13,
   "id": "f2aadbea",
   "metadata": {},
   "outputs": [
    {
     "name": "stderr",
     "output_type": "stream",
     "text": [
      "                                                                                \r"
     ]
    },
    {
     "name": "stdout",
     "output_type": "stream",
     "text": [
      "Max Movie Count: 78458\n",
      "Min Movie Count: 1\n"
     ]
    }
   ],
   "source": [
    "#GroupBy user ratings each movie has\n",
    "movie_count = train.groupBy('movieId').count().toPandas()\n",
    "print('Max Movie Count: {}'.format(movie_count['count'].max()))\n",
    "print('Min Movie Count: {}'.format(movie_count['count'].min()))"
   ]
  },
  {
   "cell_type": "markdown",
   "id": "62cffa3b",
   "metadata": {},
   "source": [
    "### Training our Model"
   ]
  },
  {
   "cell_type": "code",
   "execution_count": 14,
   "id": "c282ba57",
   "metadata": {},
   "outputs": [
    {
     "name": "stderr",
     "output_type": "stream",
     "text": [
      "                                                                                \r"
     ]
    }
   ],
   "source": [
    "#Training the ALS model\n",
    "from pyspark.ml.recommendation import ALS\n",
    "\n",
    "als_model = ALS(userCol='userId',\n",
    "                itemCol='movieId',\n",
    "                nonnegative=True,\n",
    "                regParam=0.1,\n",
    "                rank=10)\n",
    "# rank is the number of latent factors we are choosing\n",
    "\n",
    "recommender = als_model.fit(train)"
   ]
  },
  {
   "cell_type": "code",
   "execution_count": 15,
   "id": "05fe6b96",
   "metadata": {},
   "outputs": [],
   "source": [
    "predictions = recommender.transform(test)"
   ]
  },
  {
   "cell_type": "code",
   "execution_count": 16,
   "id": "0b784bf9",
   "metadata": {
    "scrolled": true
   },
   "outputs": [
    {
     "name": "stderr",
     "output_type": "stream",
     "text": [
      "[Stage 150:============================>                            (1 + 1) / 2]\r"
     ]
    },
    {
     "name": "stdout",
     "output_type": "stream",
     "text": [
      "+-------+-----------------+------------------+------------------+--------------------+-----------+\n",
      "|summary|           userId|           movieId|            rating|           timestamp| prediction|\n",
      "+-------+-----------------+------------------+------------------+--------------------+-----------+\n",
      "|  count|          5537440|           5537440|           5537440|             5537440|    5537440|\n",
      "|   mean|141587.1346490436| 18484.90387652056| 3.531124581033835|1.1932480093971403E9|        NaN|\n",
      "| stddev|81546.48005935358|35099.583738744404|1.0662115171060889| 2.160148494700496E8|        NaN|\n",
      "|    min|                1|                 1|               0.5|           789652009|0.024595661|\n",
      "|    max|           282472|            193882|               5.0|          1537945078|        NaN|\n",
      "+-------+-----------------+------------------+------------------+--------------------+-----------+\n",
      "\n"
     ]
    },
    {
     "name": "stderr",
     "output_type": "stream",
     "text": [
      "                                                                                \r"
     ]
    }
   ],
   "source": [
    "predictions.describe().show()"
   ]
  },
  {
   "cell_type": "code",
   "execution_count": 17,
   "id": "39a587c9",
   "metadata": {},
   "outputs": [
    {
     "name": "stdout",
     "output_type": "stream",
     "text": [
      "root\n",
      " |-- userId: integer (nullable = true)\n",
      " |-- movieId: integer (nullable = true)\n",
      " |-- rating: double (nullable = true)\n",
      " |-- timestamp: integer (nullable = true)\n",
      " |-- prediction: float (nullable = false)\n",
      "\n"
     ]
    }
   ],
   "source": [
    "predictions.printSchema()"
   ]
  },
  {
   "cell_type": "markdown",
   "id": "a9cf3580",
   "metadata": {},
   "source": [
    "### Cold Start Strategy"
   ]
  },
  {
   "cell_type": "code",
   "execution_count": 18,
   "id": "6df138ee",
   "metadata": {},
   "outputs": [],
   "source": [
    "#drop Null values\n",
    "predictions = predictions.na.drop()"
   ]
  },
  {
   "cell_type": "markdown",
   "id": "35507406",
   "metadata": {},
   "source": [
    "### Calculating Error"
   ]
  },
  {
   "cell_type": "code",
   "execution_count": 19,
   "id": "e640c017",
   "metadata": {},
   "outputs": [],
   "source": [
    "predictions = predictions.withColumn(\"squared_error\", (predictions.rating - predictions.prediction)**2)"
   ]
  },
  {
   "cell_type": "code",
   "execution_count": 20,
   "id": "c8833bef",
   "metadata": {},
   "outputs": [
    {
     "name": "stderr",
     "output_type": "stream",
     "text": [
      "                                                                                \r"
     ]
    },
    {
     "data": {
      "text/html": [
       "<table border='1'>\n",
       "<tr><th>userId</th><th>movieId</th><th>rating</th><th>timestamp</th><th>prediction</th><th>squared_error</th></tr>\n",
       "<tr><td>1</td><td>1590</td><td>2.5</td><td>1256677236</td><td>2.4769917</td><td>5.293840113154147E-4</td></tr>\n",
       "<tr><td>1</td><td>2478</td><td>4.0</td><td>1256677239</td><td>3.304869</td><td>0.48320719538884305</td></tr>\n",
       "<tr><td>1</td><td>2840</td><td>3.0</td><td>1256677500</td><td>2.442903</td><td>0.3103570207915709</td></tr>\n",
       "<tr><td>1</td><td>2986</td><td>2.5</td><td>1256677496</td><td>2.0847154</td><td>0.17246132693458094</td></tr>\n",
       "<tr><td>1</td><td>3698</td><td>3.5</td><td>1256677243</td><td>3.008916</td><td>0.24116359210984228</td></tr>\n",
       "<tr><td>3</td><td>828</td><td>4.0</td><td>945141610</td><td>2.6987247</td><td>1.6933172848403046</td></tr>\n",
       "<tr><td>3</td><td>960</td><td>3.0</td><td>945141407</td><td>3.2846305</td><td>0.08101454261174013</td></tr>\n",
       "<tr><td>5</td><td>318</td><td>5.0</td><td>1209040104</td><td>4.5814266</td><td>0.17520367403994896</td></tr>\n",
       "<tr><td>5</td><td>1186</td><td>2.0</td><td>1209039308</td><td>3.7178175</td><td>2.9508971176938417</td></tr>\n",
       "<tr><td>5</td><td>5954</td><td>4.0</td><td>1209039949</td><td>4.171159</td><td>0.029295331595676544</td></tr>\n",
       "<tr><td>5</td><td>5995</td><td>5.0</td><td>1209126093</td><td>4.285179</td><td>0.5109688644879498</td></tr>\n",
       "<tr><td>5</td><td>6322</td><td>3.5</td><td>1209039690</td><td>3.6187708</td><td>0.014106511907868935</td></tr>\n",
       "<tr><td>5</td><td>31410</td><td>4.0</td><td>1209039955</td><td>4.3185863</td><td>0.10149726207964704</td></tr>\n",
       "<tr><td>5</td><td>32587</td><td>4.5</td><td>1209040015</td><td>4.111061</td><td>0.15127347089583054</td></tr>\n",
       "<tr><td>5</td><td>48394</td><td>4.0</td><td>1209039436</td><td>4.262517</td><td>0.06891516237465112</td></tr>\n",
       "<tr><td>5</td><td>48780</td><td>4.0</td><td>1209039451</td><td>4.2320004</td><td>0.05382416284192004</td></tr>\n",
       "<tr><td>5</td><td>54503</td><td>4.0</td><td>1209039594</td><td>3.9931679</td><td>4.667790199164301E-5</td></tr>\n",
       "<tr><td>5</td><td>55247</td><td>5.0</td><td>1209039840</td><td>4.1566086</td><td>0.7113090847269632</td></tr>\n",
       "<tr><td>5</td><td>55820</td><td>4.5</td><td>1209039831</td><td>4.3757553</td><td>0.015436742978636175</td></tr>\n",
       "<tr><td>6</td><td>10</td><td>4.0</td><td>832039632</td><td>3.2580767</td><td>0.5504502308840529</td></tr>\n",
       "</table>\n",
       "only showing top 20 rows\n"
      ],
      "text/plain": [
       "+------+-------+------+----------+----------+-------------------+\n",
       "|userId|movieId|rating| timestamp|prediction|      squared_error|\n",
       "+------+-------+------+----------+----------+-------------------+\n",
       "|    43|   1580|   4.5|1084489669| 3.8109908| 0.4747336633611212|\n",
       "|    81|    471|   3.5|1466733959|  3.715259|0.04633646944080283|\n",
       "|    81|   3175|   3.5|1244672427| 3.1667027|0.11108705862739043|\n",
       "|   103|   1580|   3.0| 913051189|  4.056204|  1.115566556200065|\n",
       "|   132|   1580|   4.0|1118119649| 3.7138996|0.08185343176955939|\n",
       "|   137|  96488|   4.0|1432737043| 3.8570728| 0.0204281758669822|\n",
       "|   183|   1580|   4.0|1120614003| 3.4625368|0.28886667863935145|\n",
       "|   235|   1342|   3.0|1010002616|  3.149446|0.02233411008114672|\n",
       "|   235|   3794|   4.0|1024167011|  3.350849| 0.4213971335030351|\n",
       "|   235|   8638|   4.0|1100470317|   4.18642|0.03475240291686532|\n",
       "|   255|   1959|   4.0|1078554419|  4.166145|0.02760411047370326|\n",
       "|   268|   1088|   2.0|1144702333| 1.6890451| 0.0966929674950876|\n",
       "|   268|   8638|   2.5|1135772900| 2.8021138|0.09127273089285382|\n",
       "|   269|   1580|   2.0| 953337071| 3.6317344| 2.6625570581074953|\n",
       "|   295|    471|   4.0| 963683344|  3.657413|0.11736584857521848|\n",
       "|   295|   6620|   3.0|1082303641|  3.775987| 0.6021556842839004|\n",
       "|   319|   1580|   2.0| 942354416| 3.5054002| 2.2662297044028037|\n",
       "|   332|   1088|   4.5|1160290278| 3.4955065| 1.0090071412378734|\n",
       "|   339|   1580|   2.0|1530893066|  2.008631|7.44940053323262E-5|\n",
       "|   339|  44022|   0.5|1530896946| 1.8057147| 1.7048909468633298|\n",
       "+------+-------+------+----------+----------+-------------------+\n",
       "only showing top 20 rows"
      ]
     },
     "execution_count": 20,
     "metadata": {},
     "output_type": "execute_result"
    }
   ],
   "source": [
    "predictions"
   ]
  },
  {
   "cell_type": "code",
   "execution_count": 21,
   "id": "ef6d8684",
   "metadata": {},
   "outputs": [],
   "source": [
    "import pyspark.sql.functions as F\n",
    "rmse = predictions.select(F.sqrt(F.avg(F.col('squared_error'))).alias('rmse'))"
   ]
  },
  {
   "cell_type": "code",
   "execution_count": 22,
   "id": "a299ad02",
   "metadata": {},
   "outputs": [
    {
     "name": "stderr",
     "output_type": "stream",
     "text": [
      "                                                                                \r"
     ]
    },
    {
     "data": {
      "text/html": [
       "<table border='1'>\n",
       "<tr><th>rmse</th></tr>\n",
       "<tr><td>0.8238701777448263</td></tr>\n",
       "</table>\n"
      ],
      "text/plain": [
       "+------------------+\n",
       "|              rmse|\n",
       "+------------------+\n",
       "|0.8238701777448263|\n",
       "+------------------+"
      ]
     },
     "execution_count": 22,
     "metadata": {},
     "output_type": "execute_result"
    }
   ],
   "source": [
    "rmse"
   ]
  },
  {
   "cell_type": "markdown",
   "id": "551a8cb2",
   "metadata": {},
   "source": [
    "### Violin Plot"
   ]
  },
  {
   "cell_type": "code",
   "execution_count": 23,
   "id": "00d62c90",
   "metadata": {},
   "outputs": [
    {
     "name": "stderr",
     "output_type": "stream",
     "text": [
      "                                                                                \r"
     ]
    }
   ],
   "source": [
    "predictions_df = predictions.toPandas()"
   ]
  },
  {
   "cell_type": "code",
   "execution_count": 24,
   "id": "ebe5bb2f",
   "metadata": {},
   "outputs": [
    {
     "name": "stderr",
     "output_type": "stream",
     "text": [
      "/opt/conda/envs/bigdata/lib/python3.8/site-packages/matplotlib/cbook/__init__.py:1376: VisibleDeprecationWarning: Creating an ndarray from ragged nested sequences (which is a list-or-tuple of lists-or-tuples-or ndarrays with different lengths or shapes) is deprecated. If you meant to do this, you must specify 'dtype=object' when creating the ndarray.\n",
      "  X = np.atleast_1d(X.T if isinstance(X, np.ndarray) else np.asarray(X))\n",
      "/opt/conda/envs/bigdata/lib/python3.8/site-packages/numpy/core/fromnumeric.py:2007: VisibleDeprecationWarning: Creating an ndarray from ragged nested sequences (which is a list-or-tuple of lists-or-tuples-or ndarrays with different lengths or shapes) is deprecated. If you meant to do this, you must specify 'dtype=object' when creating the ndarray.\n",
      "  result = asarray(a).shape\n"
     ]
    },
    {
     "data": {
      "image/png": "[encoded data removed]",
      "text/plain": [
       "<Figure size 432x288 with 1 Axes>"
      ]
     },
     "metadata": {
      "needs_background": "light"
     },
     "output_type": "display_data"
    }
   ],
   "source": [
    "#Create array of predictions for violinplot\n",
    "data = [predictions_df['prediction'][predictions_df['rating'] == rating].values for rating in range(1,6)]\n",
    "plt.violinplot(data,range(1,6),showmeans=True)\n",
    "plt.xlabel('True Ratings')\n",
    "plt.ylabel('Predicted Ratings')\n",
    "plt.title('True vs ALS Recommender Predicted Ratings')\n",
    "plt.show()"
   ]
  },
  {
   "cell_type": "markdown",
   "id": "3863e078",
   "metadata": {},
   "source": [
    "### Movie and User Recommendation"
   ]
  },
  {
   "cell_type": "code",
   "execution_count": 25,
   "id": "d0433c92",
   "metadata": {},
   "outputs": [
    {
     "name": "stderr",
     "output_type": "stream",
     "text": [
      "/opt/conda/envs/bigdata/lib/python3.8/site-packages/pyspark/sql/context.py:125: FutureWarning: Deprecated in 3.0.0. Use SparkSession.builder.getOrCreate() instead.\n",
      "  warnings.warn(\n",
      "                                                                                \r"
     ]
    }
   ],
   "source": [
    "#Generate top 10 movie recommendations for each user\n",
    "userRecs = recommender.recommendForAllUsers(10)\n",
    "#Generate top 10 user recommendations for each movie\n",
    "movieRecs = recommender.recommendForAllItems(10)\n",
    "userRecs_df = userRecs.toPandas()\n",
    "movieRecs_df = movieRecs.toPandas()"
   ]
  },
  {
   "cell_type": "code",
   "execution_count": 26,
   "id": "e4b8ff1c",
   "metadata": {},
   "outputs": [],
   "source": [
    "def get_movie_recommendations(user_id):\n",
    "    return userRecs_df.loc[user_id].recommendations"
   ]
  },
  {
   "cell_type": "code",
   "execution_count": 27,
   "id": "8a87478b",
   "metadata": {},
   "outputs": [
    {
     "data": {
      "text/plain": [
       "[Row(movieId=151989, rating=3.9811220169067383),\n",
       " Row(movieId=177209, rating=3.894380807876587),\n",
       " Row(movieId=179063, rating=3.877295732498169),\n",
       " Row(movieId=138580, rating=3.8146867752075195),\n",
       " Row(movieId=66389, rating=3.728227138519287),\n",
       " Row(movieId=159761, rating=3.72804856300354),\n",
       " Row(movieId=190707, rating=3.7265920639038086),\n",
       " Row(movieId=182493, rating=3.721248149871826),\n",
       " Row(movieId=169648, rating=3.7063305377960205),\n",
       " Row(movieId=117352, rating=3.6975557804107666)]"
      ]
     },
     "execution_count": 27,
     "metadata": {},
     "output_type": "execute_result"
    }
   ],
   "source": [
    "get_movie_recommendations(1)"
   ]
  },
  {
   "cell_type": "code",
   "execution_count": 28,
   "id": "0495fca8",
   "metadata": {},
   "outputs": [
    {
     "data": {
      "text/plain": [
       "[Row(movieId=193759, rating=5.44693660736084),\n",
       " Row(movieId=151989, rating=5.445700645446777),\n",
       " Row(movieId=138580, rating=5.225564956665039),\n",
       " Row(movieId=177209, rating=5.156368255615234),\n",
       " Row(movieId=185579, rating=5.060628890991211),\n",
       " Row(movieId=182155, rating=4.9324631690979),\n",
       " Row(movieId=176363, rating=4.915713310241699),\n",
       " Row(movieId=114070, rating=4.867107391357422),\n",
       " Row(movieId=173153, rating=4.7409467697143555),\n",
       " Row(movieId=192089, rating=4.7145676612854)]"
      ]
     },
     "execution_count": 28,
     "metadata": {},
     "output_type": "execute_result"
    }
   ],
   "source": [
    "get_movie_recommendations(420)"
   ]
  },
  {
   "cell_type": "code",
   "execution_count": 29,
   "id": "0350d78b",
   "metadata": {},
   "outputs": [],
   "source": [
    "def get_user_recommendations(movie_id):\n",
    "    return movieRecs_df.loc[movie_id].recommendations"
   ]
  },
  {
   "cell_type": "code",
   "execution_count": 30,
   "id": "8311a012",
   "metadata": {},
   "outputs": [
    {
     "data": {
      "text/plain": [
       "[Row(userId=268979, rating=5.014820098876953),\n",
       " Row(userId=236432, rating=4.995967864990234),\n",
       " Row(userId=213750, rating=4.972465515136719),\n",
       " Row(userId=196550, rating=4.94927978515625),\n",
       " Row(userId=2573, rating=4.937995910644531),\n",
       " Row(userId=118276, rating=4.930668830871582),\n",
       " Row(userId=11784, rating=4.929383277893066),\n",
       " Row(userId=100971, rating=4.9267048835754395),\n",
       " Row(userId=14051, rating=4.925989151000977),\n",
       " Row(userId=124021, rating=4.904113292694092)]"
      ]
     },
     "execution_count": 30,
     "metadata": {},
     "output_type": "execute_result"
    }
   ],
   "source": [
    "get_user_recommendations(1)"
   ]
  },
  {
   "cell_type": "code",
   "execution_count": 31,
   "id": "9d22dfc0",
   "metadata": {},
   "outputs": [
    {
     "data": {
      "text/plain": [
       "[Row(userId=174669, rating=5.700204849243164),\n",
       " Row(userId=189529, rating=5.546278953552246),\n",
       " Row(userId=66306, rating=5.466180324554443),\n",
       " Row(userId=139996, rating=5.403791427612305),\n",
       " Row(userId=85393, rating=5.34375524520874),\n",
       " Row(userId=141256, rating=5.302724361419678),\n",
       " Row(userId=955, rating=5.252330780029297),\n",
       " Row(userId=206407, rating=5.243793487548828),\n",
       " Row(userId=151445, rating=5.224103927612305),\n",
       " Row(userId=31381, rating=5.196128845214844)]"
      ]
     },
     "execution_count": 31,
     "metadata": {},
     "output_type": "execute_result"
    }
   ],
   "source": [
    "get_user_recommendations(420)"
   ]
  },
  {
   "cell_type": "code",
   "execution_count": null,
   "id": "6303aed4",
   "metadata": {},
   "outputs": [],
   "source": []
  }
 ],
 "metadata": {
  "kernelspec": {
   "display_name": "Python [conda env:bigdata]",
   "language": "python",
   "name": "conda-env-bigdata-py"
  },
  "language_info": {
   "codemirror_mode": {
    "name": "ipython",
    "version": 3
   },
   "file_extension": ".py",
   "mimetype": "text/x-python",
   "name": "python",
   "nbconvert_exporter": "python",
   "pygments_lexer": "ipython3",
   "version": "3.8.13"
  }
 },
 "nbformat": 4,
 "nbformat_minor": 5
}
