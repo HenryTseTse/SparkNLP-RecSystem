{
  "cells": [
    {
      "cell_type": "markdown",
      "metadata": {
        "id": "_s7O-c0V9s_b"
      },
      "source": [
        "#**Setup SparkNLP and PySpark**"
      ]
    },
    {
      "cell_type": "markdown",
      "source": [
        "In this intial section, we setup and resolve all dependencies to run SparkNLP and PySpark on Google Collaboratory. Please note that this may require you to have a Collab Pro account! "
      ],
      "metadata": {
        "id": "oPH66BUbxvQj"
      }
    },
    {
      "cell_type": "code",
      "execution_count": null,
      "metadata": {
        "colab": {
          "base_uri": "https://localhost:8080/"
        },
        "id": "WL_M9-e2pPyp",
        "outputId": "a91b8255-2701-4972-961b-f3b8d7adad40"
      },
      "outputs": [
        {
          "output_type": "stream",
          "name": "stdout",
          "text": [
            "--2022-05-15 18:25:56--  http://setup.johnsnowlabs.com/colab.sh\n",
            "Resolving setup.johnsnowlabs.com (setup.johnsnowlabs.com)... 51.158.130.125\n",
            "Connecting to setup.johnsnowlabs.com (setup.johnsnowlabs.com)|51.158.130.125|:80... connected.\n",
            "HTTP request sent, awaiting response... 302 Found\n",
            "Location: https://setup.johnsnowlabs.com/colab.sh [following]\n",
            "--2022-05-15 18:25:56--  https://setup.johnsnowlabs.com/colab.sh\n",
            "Connecting to setup.johnsnowlabs.com (setup.johnsnowlabs.com)|51.158.130.125|:443... connected.\n",
            "HTTP request sent, awaiting response... 302 Moved Temporarily\n",
            "Location: https://raw.githubusercontent.com/JohnSnowLabs/spark-nlp/master/scripts/colab_setup.sh [following]\n",
            "--2022-05-15 18:25:57--  https://raw.githubusercontent.com/JohnSnowLabs/spark-nlp/master/scripts/colab_setup.sh\n",
            "Resolving raw.githubusercontent.com (raw.githubusercontent.com)... 185.199.108.133, 185.199.109.133, 185.199.110.133, ...\n",
            "Connecting to raw.githubusercontent.com (raw.githubusercontent.com)|185.199.108.133|:443... connected.\n",
            "HTTP request sent, awaiting response... 200 OK\n",
            "Length: 1603 (1.6K) [text/plain]\n",
            "Saving to: ‘STDOUT’\n",
            "\n",
            "-                   100%[===================>]   1.57K  --.-KB/s    in 0s      \n",
            "\n",
            "2022-05-15 18:25:58 (23.0 MB/s) - written to stdout [1603/1603]\n",
            "\n",
            "setup Colab for PySpark 3.0.3 and Spark NLP 3.4.4\n",
            "Installing PySpark 3.0.3 and Spark NLP 3.4.4\n",
            "\u001b[K     |████████████████████████████████| 209.1 MB 50 kB/s \n",
            "\u001b[K     |████████████████████████████████| 145 kB 47.4 MB/s \n",
            "\u001b[K     |████████████████████████████████| 198 kB 58.3 MB/s \n",
            "\u001b[?25h  Building wheel for pyspark (setup.py) ... \u001b[?25l\u001b[?25hdone\n"
          ]
        }
      ],
      "source": [
        "! wget http://setup.johnsnowlabs.com/colab.sh -O - | bash"
      ]
    },
    {
      "cell_type": "code",
      "execution_count": null,
      "metadata": {
        "id": "Lzv4YQKhsCCZ"
      },
      "outputs": [],
      "source": [
        "from sparknlp.base import *\n",
        "from sparknlp.annotator import *\n",
        "from pyspark.ml import Pipeline\n",
        "import numpy as np\n",
        "from pyspark.ml.linalg import *\n",
        "from pyspark.sql.types import * \n",
        "from pyspark.sql.functions import *\n",
        "from pyspark.ml.feature import BucketedRandomProjectionLSH"
      ]
    },
    {
      "cell_type": "code",
      "execution_count": null,
      "metadata": {
        "colab": {
          "base_uri": "https://localhost:8080/"
        },
        "id": "H4O1OXNSpSgz",
        "outputId": "3e3667b8-725d-4cab-91a9-9f48086a2edc"
      },
      "outputs": [
        {
          "output_type": "stream",
          "name": "stdout",
          "text": [
            "Spark NLP version:  3.4.4\n",
            "Apache Spark version:  3.0.3\n"
          ]
        }
      ],
      "source": [
        "import sparknlp\n",
        "\n",
        "spark = sparknlp.start(gpu=True)\n",
        "\n",
        "print(\"Spark NLP version: \", sparknlp.version())\n",
        "print(\"Apache Spark version: \", spark.version)"
      ]
    },
    {
      "cell_type": "markdown",
      "metadata": {
        "id": "izAydlPe93hf"
      },
      "source": [
        "#**Generate Spark Pipeline that utilizes BERT for Embeddings**"
      ]
    },
    {
      "cell_type": "markdown",
      "source": [
        "The codeblock below sets up the Spark Pipeline for BERT described in the final report. Specifically, it generates a pipeline utilizing:\n",
        "\n",
        "1. A documentAssembler\n",
        "2. A SentenceDetector\n",
        "3. A BertSentenceEmbeddings model\n",
        "4. An EmbeddingsFinisher\n",
        "\n",
        "The specific BERT implementation utilized is sent_small_bert_L2_128 as referenced in the paper [here](https://arxiv.org/abs/1908.08962) (Well-Read Students Learn Better: On the Importance of Pre-training Compact Models). "
      ],
      "metadata": {
        "id": "ZRmgfaaxx7bR"
      }
    },
    {
      "cell_type": "code",
      "execution_count": null,
      "metadata": {
        "colab": {
          "base_uri": "https://localhost:8080/"
        },
        "id": "oYkphYZVsINK",
        "outputId": "b7e1d76a-975c-4207-db6e-ed4cc331a420"
      },
      "outputs": [
        {
          "output_type": "stream",
          "name": "stdout",
          "text": [
            "sent_small_bert_L2_128 download started this may take some time.\n",
            "Approximate size to download 16.1 MB\n",
            "[OK!]\n"
          ]
        }
      ],
      "source": [
        "documentAssembler = DocumentAssembler() \\\n",
        "    .setInputCol(\"text\") \\\n",
        "    .setOutputCol(\"document\")\n",
        "    \n",
        "sentence = SentenceDetector() \\\n",
        "    .setInputCols([\"document\"]) \\\n",
        "    .setOutputCol(\"sentence\")\n",
        "\n",
        "embeddings = BertSentenceEmbeddings.pretrained(\"sent_small_bert_L2_128\") \\\n",
        "    .setInputCols([\"sentence\"]) \\\n",
        "    .setOutputCol(\"sentence_bert_embeddings\")\n",
        "\n",
        "embeddingsFinisher = EmbeddingsFinisher() \\\n",
        "    .setInputCols([\"sentence_bert_embeddings\"]) \\\n",
        "    .setOutputCols(\"finished_embeddings\") \\\n",
        "    .setOutputAsVector(True)\n",
        "    \n",
        "pipeline = Pipeline().setStages([\n",
        "    documentAssembler,\n",
        "    sentence,\n",
        "    embeddings,\n",
        "    embeddingsFinisher\n",
        "])"
      ]
    },
    {
      "cell_type": "markdown",
      "metadata": {
        "id": "Kz78ahxB-Bb4"
      },
      "source": [
        "#**Example Embeddings Extraction on Smaller Dataset**"
      ]
    },
    {
      "cell_type": "markdown",
      "source": [
        "In this section, we run a small test dataset against pipeline we generated above to confirm that we retain contextual information in the vectors. Initially, a small dataset of about 20 movies is generated using title and plot descriptions from TMDb. Afterwards, two query movies are run against the dataset."
      ],
      "metadata": {
        "id": "Fd0IeINY0rBB"
      }
    },
    {
      "cell_type": "markdown",
      "source": [
        "##**Small Sample Dataset**"
      ],
      "metadata": {
        "id": "YsfYDPZR0_RR"
      }
    },
    {
      "cell_type": "code",
      "execution_count": null,
      "metadata": {
        "colab": {
          "base_uri": "https://localhost:8080/"
        },
        "id": "ldO-XLFu9Ee9",
        "outputId": "df2e1e53-e1fc-4e31-d628-59631f3a778f"
      },
      "outputs": [
        {
          "output_type": "stream",
          "name": "stdout",
          "text": [
            "+--------------------+--------------------+\n",
            "|               title|                text|\n",
            "+--------------------+--------------------+\n",
            "|         Toy Story 1|A cowboy doll is ...|\n",
            "|         Toy Story 2|When Woody is sto...|\n",
            "|         Toy Story 3|The toys are mist...|\n",
            "|            Avengers|Earth's mightiest...|\n",
            "|Avengers: The Age...|When Tony Stark a...|\n",
            "|               Tenet|Armed with only o...|\n",
            "|       Choose or Die|After firing up a...|\n",
            "|                   X|In 1979, a group ...|\n",
            "|     The Black Phone|After being abduc...|\n",
            "|              Scream|25 years after a ...|\n",
            "|      The Lighthouse|Two lighthouse ke...|\n",
            "|Jeepers Creepers:...|Forced to travel ...|\n",
            "|             Get Out|A young African-A...|\n",
            "|       A Quiet Place|In a post-apocaly...|\n",
            "|              Antman|Armed with a supe...|\n",
            "|          The Grudge|A house is cursed...|\n",
            "|               Ju-On|A mysterious and ...|\n",
            "|        The Grudge 2|Three interwoven ...|\n",
            "|Spiderman: Homeco...|Peter Parker bala...|\n",
            "+--------------------+--------------------+\n",
            "\n"
          ]
        }
      ],
      "source": [
        "data = [\n",
        "  [\"Toy Story 1\", \"A cowboy doll is profoundly threatened and jealous when a new spaceman figure supplants him as top toy in a boy's room\"],\n",
        "  [\"Toy Story 2\", \"When Woody is stolen by a toy collector, Buzz and his friends set out on a rescue mission to save Woody before he becomes a museum toy property with his roundup gang Jessie, Prospector, and Bullseye.\"],\n",
        "  [\"Toy Story 3\", \"The toys are mistakenly delivered to a day-care center instead of the attic right before Andy leaves for college, and it's up to Woody to convince the other toys that they weren't abandoned and to return home.\"],\n",
        "  [\"Avengers\", \"Earth's mightiest heroes must come together and learn to fight as a team if they are going to stop the mischievous Loki and his alien army from enslaving humanity.\"],\n",
        "  [\"Avengers: The Age of Ultron\", \"When Tony Stark and Bruce Banner try to jump-start a dormant peacekeeping program called Ultron, things go horribly wrong and it's up to Earth's mightiest heroes to stop the villainous Ultron from enacting his terrible plan.\"],\n",
        "  [\"Tenet\", \"Armed with only one word, Tenet, and fighting for the survival of the entire world, a Protagonist journeys through a twilight world of international espionage on a mission that will unfold in something beyond real time.\"],\n",
        "  [\"Choose or Die\", \"After firing up a lost 80s survival horror game, a young coder unleashes a hidden curse that tears reality apart, forcing her to make terrifying decisions and face deadly consequences\"],\n",
        "  [\"X\", \"In 1979, a group of young filmmakers set out to make an adult film in rural Texas, but when their reclusive, elderly hosts catch them in the act, the cast find themselves fighting for their lives.\"],\n",
        "  [\"The Black Phone\", \"After being abducted by a child killer and locked in a soundproof basement, a 13-year-old boy starts receiving calls on a disconnected phone from the killer's previous victims.\"],\n",
        "  [\"Scream\",\"25 years after a streak of brutal murders shocked the quiet town of Woodsboro, Calif, a new killer dons the Ghostface mask and begins targeting a group of teenagers to resurrect secrets from the town's deadly past.\"],\n",
        "  [\"The Lighthouse\",\"Two lighthouse keepers try to maintain their sanity while living on a remote and mysterious New England island in the 1890s.\"],\n",
        "  [\"Jeepers Creepers: Reborn\",\"Forced to travel with her boyfriend, Laine, she begins to experience premonitions associated with the urban myth of The Creeper Laine believes that something supernatural has been summoned - and that she is at the center of it all.\"],\n",
        "  [\"Get Out\",\"A young African-American visits his white girlfriend's parents for the weekend, where his simmering uneasiness about their reception of him eventually reaches a boiling point.\"],\n",
        "  [\"A Quiet Place\",\"In a post-apocalyptic world, a family is forced to live in silence while hiding from monsters with ultra-sensitive hearing.\"],\n",
        "  [\"Antman\", \"Armed with a super-suit with the astonishing ability to shrink in scale but increase in strength, cat burglar Scott Lang must embrace his inner hero and help his mentor, Dr. Hank Pym, pull off a plan that will save the world.\"],\n",
        "  [\"The Grudge\", \"A house is cursed by a mysterious ghost that dooms those who enter it with a violent death.\"],\n",
        "  [\"Ju-On\", \"A mysterious and vengeful spirit marks and pursues anybody who dares enter the house in which it resides.\"],\n",
        "  [\"The Grudge 2\", \"Three interwoven stories about a terrible curse - a young woman encounters a malevolent supernatural force while searching for her missing sister in Tokyo, a mean high school prank goes horribly wrong, a woman with a deadly secret moves into a Chicago apartment building.\"],\n",
        "  [\"Spiderman: Homecoming\", \"Peter Parker balances his life as an ordinary high school student in Queens with his superhero alter-ego Spider-Man, and finds himself on the trail of a new menace prowling the skies of New York City.\"]\n",
        "]\n",
        "\n",
        "df = spark.createDataFrame(data).toDF(\"title\", \"text\")\n",
        "\n",
        "df.show()"
      ]
    },
    {
      "cell_type": "markdown",
      "source": [
        "##**Generating Embeddings for movies in the Sample Dataset**"
      ],
      "metadata": {
        "id": "S61AfYBp1DSR"
      }
    },
    {
      "cell_type": "code",
      "execution_count": null,
      "metadata": {
        "colab": {
          "base_uri": "https://localhost:8080/"
        },
        "id": "OuS_6JEtsvlS",
        "outputId": "6d0bd8e6-7967-4fb7-fb9d-89530fb60853"
      },
      "outputs": [
        {
          "output_type": "stream",
          "name": "stdout",
          "text": [
            "+---------------------------+----------------------------------------------------------------------------------------------------+----------------------------------------------------------------------------------------------------+\n",
            "|                      title|                                                                                                text|                                                                                              result|\n",
            "+---------------------------+----------------------------------------------------------------------------------------------------+----------------------------------------------------------------------------------------------------+\n",
            "|                Toy Story 1|A cowboy doll is profoundly threatened and jealous when a new spaceman figure supplants him as to...|[-0.9685783982276917,0.3691055476665497,-0.11737212538719177,-1.7240582704544067,0.15731708705425...|\n",
            "|                Toy Story 2|When Woody is stolen by a toy collector, Buzz and his friends set out on a rescue mission to save...|[-0.736872136592865,0.30162033438682556,-0.5562610626220703,-0.9382912516593933,0.557289481163024...|\n",
            "|                Toy Story 3|The toys are mistakenly delivered to a day-care center instead of the attic right before Andy lea...|[-0.5623281598091125,0.33543214201927185,-0.7783103585243225,-0.7297341227531433,1.31680941581726...|\n",
            "|                   Avengers|Earth's mightiest heroes must come together and learn to fight as a team if they are going to sto...|[-0.3722144663333893,-0.5112112164497375,-0.14444100856781006,-1.0543320178985596,0.0093981763347...|\n",
            "|Avengers: The Age of Ultron|When Tony Stark and Bruce Banner try to jump-start a dormant peacekeeping program called Ultron, ...|[-0.3572331964969635,-0.30559584498405457,-0.394130676984787,-0.5337218642234802,0.17120257019996...|\n",
            "|                      Tenet|Armed with only one word, Tenet, and fighting for the survival of the entire world, a Protagonist...|[-0.8432719111442566,-0.5377484560012817,-0.23836557567119598,-1.2069395780563354,0.0379357933998...|\n",
            "|              Choose or Die|After firing up a lost 80s survival horror game, a young coder unleashes a hidden curse that tear...|[-0.821500837802887,-0.7000113129615784,-0.3530392348766327,-1.2087364196777344,0.028598077595233...|\n",
            "|                          X|In 1979, a group of young filmmakers set out to make an adult film in rural Texas, but when their...|[-1.0422862768173218,-0.20397710800170898,-0.407564640045166,-1.3210389614105225,0.99643313884735...|\n",
            "|            The Black Phone|After being abducted by a child killer and locked in a soundproof basement, a 13-year-old boy sta...|[-0.5091152787208557,-0.07068033516407013,-0.6838493347167969,-1.3534022569656372,0.1720528155565...|\n",
            "|                     Scream|25 years after a streak of brutal murders shocked the quiet town of Woodsboro, Calif, a new kille...|[-0.8217607140541077,-0.6294795870780945,-0.13153907656669617,-0.784266471862793,0.24996647238731...|\n",
            "|             The Lighthouse|Two lighthouse keepers try to maintain their sanity while living on a remote and mysterious New E...|[-0.9100604057312012,0.7203644514083862,-0.35227808356285095,-2.10306978225708,0.8258707523345947...|\n",
            "|   Jeepers Creepers: Reborn|Forced to travel with her boyfriend, Laine, she begins to experience premonitions associated with...|[-0.6041266322135925,-0.336940735578537,-0.6055258512496948,-1.110001802444458,0.0729111656546592...|\n",
            "|                    Get Out|A young African-American visits his white girlfriend's parents for the weekend, where his simmeri...|[-1.5672231912612915,-0.630774199962616,-0.4777103662490845,-1.6450440883636475,0.204061657190322...|\n",
            "|              A Quiet Place|In a post-apocalyptic world, a family is forced to live in silence while hiding from monsters wit...|[-0.7139595746994019,-1.3137235641479492,-0.3780999481678009,-1.9266258478164673,0.10517944395542...|\n",
            "|                     Antman|Armed with a super-suit with the astonishing ability to shrink in scale but increase in strength,...|[-0.591833770275116,0.47567975521087646,-0.3747453987598419,-0.7147738337516785,0.120288126170635...|\n",
            "|                 The Grudge|         A house is cursed by a mysterious ghost that dooms those who enter it with a violent death.|[-0.7398663759231567,-0.5438394546508789,0.2831810414791107,-2.225337266921997,-0.273563861846923...|\n",
            "|                      Ju-On|A mysterious and vengeful spirit marks and pursues anybody who dares enter the house in which it ...|[-1.1419297456741333,0.19783170521259308,-0.06611506640911102,-1.9473049640655518,0.0201920513063...|\n",
            "|               The Grudge 2|Three interwoven stories about a terrible curse - a young woman encounters a malevolent supernatu...|[-0.6449720859527588,-0.6740285158157349,-0.42072203755378723,-0.7059400081634521,-0.095224589109...|\n",
            "|      Spiderman: Homecoming|Peter Parker balances his life as an ordinary high school student in Queens with his superhero al...|[-0.275677353143692,-0.15313148498535156,-0.28101465106010437,-1.0872031450271606,-0.063806407153...|\n",
            "+---------------------------+----------------------------------------------------------------------------------------------------+----------------------------------------------------------------------------------------------------+\n",
            "\n"
          ]
        }
      ],
      "source": [
        "df_bert = pipeline.fit(df).transform(df)\n",
        "df_bert.selectExpr(\"title\",\"text\",\"explode(finished_embeddings) as result\").show(20,100)"
      ]
    },
    {
      "cell_type": "markdown",
      "source": [
        "##**Generating the Test Queries for Iron Man 1 and Paranormal Activity**"
      ],
      "metadata": {
        "id": "3FUMcIsk1Ik5"
      }
    },
    {
      "cell_type": "code",
      "execution_count": null,
      "metadata": {
        "colab": {
          "base_uri": "https://localhost:8080/"
        },
        "id": "B4au-y589OXN",
        "outputId": "a1678aa6-e277-4925-b414-109bfc64856f"
      },
      "outputs": [
        {
          "output_type": "stream",
          "name": "stdout",
          "text": [
            "+----------+--------------------+\n",
            "|     title|                text|\n",
            "+----------+--------------------+\n",
            "|Iron Man 1|After being held ...|\n",
            "+----------+--------------------+\n",
            "\n",
            "+-------------------+--------------------+\n",
            "|              title|                text|\n",
            "+-------------------+--------------------+\n",
            "|Paranormal Activity|After moving into...|\n",
            "+-------------------+--------------------+\n",
            "\n"
          ]
        }
      ],
      "source": [
        "query = [\n",
        "  [\"Iron Man 1\",\"After being held captive in an Afghan cave, billionaire engineer Tony Stark creates a unique weaponized suit of armor to fight evil.\"],\n",
        "]\n",
        "\n",
        "query_df = spark.createDataFrame(query).toDF(\"title\", \"text\")\n",
        "query_df.show()\n",
        "\n",
        "query2 = [\n",
        "  [\"Paranormal Activity\",\"After moving into a suburban home, a couple becomes increasingly disturbed by a nightly demonic presence.\"],\n",
        "]\n",
        "\n",
        "query2_df = spark.createDataFrame(query2).toDF(\"title\", \"text\")\n",
        "query2_df.show()"
      ]
    },
    {
      "cell_type": "markdown",
      "source": [
        "##**Generating the embeddings for the Test Queries**"
      ],
      "metadata": {
        "id": "gvZiYbl-1MSx"
      }
    },
    {
      "cell_type": "code",
      "execution_count": null,
      "metadata": {
        "colab": {
          "base_uri": "https://localhost:8080/"
        },
        "id": "9il6LKu2yzXP",
        "outputId": "eaa2e1d6-10d1-4486-f5ef-20e7635b3cb0"
      },
      "outputs": [
        {
          "output_type": "stream",
          "name": "stdout",
          "text": [
            "+----------+------------------------------------------------------------------------------------------------------------------------------------------------------------------------------------------------------------------------------------------------------------------------------------------------------------------------------------------------------------------------------------------------------------------------------------------------------------------------------------------------------------------------------------------------------------------------------------------------------------------------------------------------------------------------------------------------------------------------------------------------------------------------------------------------------------------------------------------------------------------------------------------------------------------------------------------------------------------------------------------------------------------------------------------------------------------------------------------------------------------------------------------------------------------------------------------------------------------------------------------------------------------------------------------------------------------------------------------------------------------------------------------------------------------------------------------------------------------------------------------------------------------------------------------------------------------------------------------------------------------------------------------------------------------------------------------------------------------------------------------------------------------------------------------------------------------------------------------------------------------------------------------------------------------------------------------------------------------------------------------------------------------------------------------------------------------------------------------------------------------------------------------------------------------------------------------------------------------------------------------------------------------------------------------------------------------------------------------------------------------------------------------------------------------------------------------------------------------------------------------------------------------------------------------------------------------------------------------------------------------------+\n",
            "|title     |result                                                                                                                                                                                                                                                                                                                                                                                                                                                                                                                                                                                                                                                                                                                                                                                                                                                                                                                                                                                                                                                                                                                                                                                                                                                                                                                                                                                                                                                                                                                                                                                                                                                                                                                                                                                                                                                                                                                                                                                                                                                                                                                                                                                                                                                                                                                                                                                                                                                                                                                                                                                                                  |\n",
            "+----------+------------------------------------------------------------------------------------------------------------------------------------------------------------------------------------------------------------------------------------------------------------------------------------------------------------------------------------------------------------------------------------------------------------------------------------------------------------------------------------------------------------------------------------------------------------------------------------------------------------------------------------------------------------------------------------------------------------------------------------------------------------------------------------------------------------------------------------------------------------------------------------------------------------------------------------------------------------------------------------------------------------------------------------------------------------------------------------------------------------------------------------------------------------------------------------------------------------------------------------------------------------------------------------------------------------------------------------------------------------------------------------------------------------------------------------------------------------------------------------------------------------------------------------------------------------------------------------------------------------------------------------------------------------------------------------------------------------------------------------------------------------------------------------------------------------------------------------------------------------------------------------------------------------------------------------------------------------------------------------------------------------------------------------------------------------------------------------------------------------------------------------------------------------------------------------------------------------------------------------------------------------------------------------------------------------------------------------------------------------------------------------------------------------------------------------------------------------------------------------------------------------------------------------------------------------------------------------------------------------------------+\n",
            "|Iron Man 1|[0.08888429403305054,0.11417951434850693,-0.01899794675409794,-0.847995400428772,-0.03904981538653374,-0.920042097568512,-0.6629287004470825,-0.2522107660770416,-0.3966052234172821,-0.5656567215919495,-0.7118878960609436,0.792410135269165,-1.143270492553711,-0.6096922755241394,1.243404507637024,-0.42325079441070557,-1.2974172830581665,0.8543651700019836,-1.017548680305481,0.858380913734436,-0.14029045403003693,0.21430443227291107,0.939127504825592,1.1829028129577637,1.4383622407913208,-0.6263331770896912,0.73175048828125,0.527995228767395,0.10293373465538025,0.34275251626968384,-0.6628567576408386,-1.9225059747695923,-0.7345843315124512,-0.4679814875125885,0.29596248269081116,-0.6088665723800659,-0.061799414455890656,0.11267028003931046,-2.3778140544891357,-0.47689664363861084,-0.27926090359687805,0.8467690348625183,-0.03816146403551102,-1.4315048456192017,0.46027088165283203,-1.9726030826568604,-0.36164262890815735,-0.2650376856327057,-0.2459787130355835,0.2034377157688141,1.6823986768722534,0.5863662362098694,0.927200198173523,-1.0606597661972046,-0.5547789335250854,0.24963799118995667,0.046706423163414,-1.2596893310546875,0.23859956860542297,1.426444172859192,1.1151601076126099,-1.069231390953064,-0.7251978516578674,-1.0636918544769287,-0.36902427673339844,0.37725508213043213,0.1845327615737915,0.5229038000106812,-0.2831713855266571,0.7041834592819214,-0.1588449776172638,-0.8691180944442749,1.0757800340652466,0.24874305725097656,-0.3602518141269684,-0.4743571877479553,0.7916527390480042,-0.0738801583647728,1.1487791538238525,0.13499276340007782,0.14077065885066986,-0.5794424414634705,-0.03759949654340744,0.13123975694179535,0.4326341152191162,-0.18672651052474976,-0.5022612810134888,-0.16788238286972046,1.215988039970398,-2.324403762817383,1.7995737791061401,0.0928851068019867,-0.6058650016784668,0.44632619619369507,0.40593644976615906,1.3372467756271362,0.7621355652809143,-0.22955472767353058,0.8931881189346313,0.5128393769264221,0.5753312706947327,0.5879428386688232,-0.2624059021472931,-0.6755489706993103,0.38761889934539795,-1.6051340103149414,-0.5433189868927002,2.012854814529419,1.3438270092010498,-1.2807230949401855,-0.3908602297306061,1.6329162120819092,0.42230018973350525,-0.4827999770641327,-1.070922613143921,-0.16355401277542114,-0.46872928738594055,-1.441217064857483,-0.3003818988800049,-0.14458175003528595,0.044850509613752365,0.9599516987800598,1.549270510673523,-0.33552926778793335,-2.187462091445923,-1.4587918519973755,-1.4791041612625122,0.8085741400718689]|\n",
            "+----------+------------------------------------------------------------------------------------------------------------------------------------------------------------------------------------------------------------------------------------------------------------------------------------------------------------------------------------------------------------------------------------------------------------------------------------------------------------------------------------------------------------------------------------------------------------------------------------------------------------------------------------------------------------------------------------------------------------------------------------------------------------------------------------------------------------------------------------------------------------------------------------------------------------------------------------------------------------------------------------------------------------------------------------------------------------------------------------------------------------------------------------------------------------------------------------------------------------------------------------------------------------------------------------------------------------------------------------------------------------------------------------------------------------------------------------------------------------------------------------------------------------------------------------------------------------------------------------------------------------------------------------------------------------------------------------------------------------------------------------------------------------------------------------------------------------------------------------------------------------------------------------------------------------------------------------------------------------------------------------------------------------------------------------------------------------------------------------------------------------------------------------------------------------------------------------------------------------------------------------------------------------------------------------------------------------------------------------------------------------------------------------------------------------------------------------------------------------------------------------------------------------------------------------------------------------------------------------------------------------------------+\n",
            "\n",
            "+-------------------+---------------------------------------------------------------------------------------------------------------------------------------------------------------------------------------------------------------------------------------------------------------------------------------------------------------------------------------------------------------------------------------------------------------------------------------------------------------------------------------------------------------------------------------------------------------------------------------------------------------------------------------------------------------------------------------------------------------------------------------------------------------------------------------------------------------------------------------------------------------------------------------------------------------------------------------------------------------------------------------------------------------------------------------------------------------------------------------------------------------------------------------------------------------------------------------------------------------------------------------------------------------------------------------------------------------------------------------------------------------------------------------------------------------------------------------------------------------------------------------------------------------------------------------------------------------------------------------------------------------------------------------------------------------------------------------------------------------------------------------------------------------------------------------------------------------------------------------------------------------------------------------------------------------------------------------------------------------------------------------------------------------------------------------------------------------------------------------------------------------------------------------------------------------------------------------------------------------------------------------------------------------------------------------------------------------------------------------------------------------------------------------------------------------------------------------------------------------------------------------------------------------------------------------------------------------------------------------------------------------------------------+\n",
            "|title              |result                                                                                                                                                                                                                                                                                                                                                                                                                                                                                                                                                                                                                                                                                                                                                                                                                                                                                                                                                                                                                                                                                                                                                                                                                                                                                                                                                                                                                                                                                                                                                                                                                                                                                                                                                                                                                                                                                                                                                                                                                                                                                                                                                                                                                                                                                                                                                                                                                                                                                                                                                                                                                           |\n",
            "+-------------------+---------------------------------------------------------------------------------------------------------------------------------------------------------------------------------------------------------------------------------------------------------------------------------------------------------------------------------------------------------------------------------------------------------------------------------------------------------------------------------------------------------------------------------------------------------------------------------------------------------------------------------------------------------------------------------------------------------------------------------------------------------------------------------------------------------------------------------------------------------------------------------------------------------------------------------------------------------------------------------------------------------------------------------------------------------------------------------------------------------------------------------------------------------------------------------------------------------------------------------------------------------------------------------------------------------------------------------------------------------------------------------------------------------------------------------------------------------------------------------------------------------------------------------------------------------------------------------------------------------------------------------------------------------------------------------------------------------------------------------------------------------------------------------------------------------------------------------------------------------------------------------------------------------------------------------------------------------------------------------------------------------------------------------------------------------------------------------------------------------------------------------------------------------------------------------------------------------------------------------------------------------------------------------------------------------------------------------------------------------------------------------------------------------------------------------------------------------------------------------------------------------------------------------------------------------------------------------------------------------------------------------+\n",
            "|Paranormal Activity|[-1.0281728506088257,-0.3522754907608032,-0.6359423398971558,-1.02126944065094,0.725547194480896,-0.3856404423713684,-0.2146633416414261,0.906510055065155,-1.030495047569275,-0.09853637218475342,1.0010747909545898,1.1977874040603638,-0.014859974384307861,-1.0061551332473755,1.0245449542999268,-0.6924290657043457,-1.0176117420196533,-0.23466792702674866,-0.7436572909355164,0.39968520402908325,-0.6562949419021606,-0.7832536101341248,0.062161944806575775,1.7314170598983765,1.518911600112915,-0.012627494521439075,-0.4749794602394104,0.9228134155273438,0.11511178314685822,-1.0494401454925537,-1.4262359142303467,-0.5883005857467651,-0.20210346579551697,0.5835303068161011,0.403639018535614,-0.22948522865772247,-1.2571861743927002,-0.9536172747612,-2.361375093460083,0.09873048961162567,0.01029086671769619,0.28297871351242065,0.15625932812690735,-0.5467076897621155,0.5880737900733948,-2.327296495437622,-0.6059681177139282,0.6295994520187378,0.46492940187454224,0.3931088149547577,1.1306589841842651,0.4917771816253662,0.34909942746162415,-0.13229116797447205,0.27569764852523804,-0.6257132887840271,0.24453917145729065,-0.4506331980228424,1.3346434831619263,1.3035080432891846,0.3852810263633728,-0.04970398172736168,-0.3192318379878998,-0.2542242109775543,0.12661421298980713,1.0873854160308838,-0.13454976677894592,0.04184676334261894,-0.8369569778442383,0.8551313281059265,0.03249819949269295,-0.16737815737724304,0.02117750607430935,0.12969979643821716,-1.184821605682373,-0.7771422863006592,-0.6108285784721375,0.31721314787864685,1.3722999095916748,0.05575293302536011,0.04050923138856888,-0.28320690989494324,-0.15625233948230743,1.112813949584961,0.33596140146255493,0.17380554974079132,-0.7452341914176941,-0.20578637719154358,0.8079458475112915,-2.7402892112731934,2.4676194190979004,-0.11606762558221817,-1.3492822647094727,0.7465395927429199,6.768703460693359E-4,-0.3227289319038391,0.1457972228527069,-0.3192990720272064,0.336503803730011,1.0818077325820923,0.23400457203388214,-0.5623453855514526,-0.3640832006931305,-0.2111809253692627,1.7929010391235352,-0.5223439931869507,-1.4437273740768433,1.2891523838043213,0.45781660079956055,-0.6803010702133179,-0.36193132400512695,2.0977303981781006,0.6552366018295288,-0.4617580473423004,-1.0081130266189575,0.18234524130821228,1.104064702987671,-0.20724967122077942,-0.8976496458053589,-0.43437695503234863,0.20520877838134766,0.4725092947483063,1.0207678079605103,-0.8320709466934204,-2.614684581756592,-1.6564029455184937,-1.2691880464553833,1.0514711141586304]|\n",
            "+-------------------+---------------------------------------------------------------------------------------------------------------------------------------------------------------------------------------------------------------------------------------------------------------------------------------------------------------------------------------------------------------------------------------------------------------------------------------------------------------------------------------------------------------------------------------------------------------------------------------------------------------------------------------------------------------------------------------------------------------------------------------------------------------------------------------------------------------------------------------------------------------------------------------------------------------------------------------------------------------------------------------------------------------------------------------------------------------------------------------------------------------------------------------------------------------------------------------------------------------------------------------------------------------------------------------------------------------------------------------------------------------------------------------------------------------------------------------------------------------------------------------------------------------------------------------------------------------------------------------------------------------------------------------------------------------------------------------------------------------------------------------------------------------------------------------------------------------------------------------------------------------------------------------------------------------------------------------------------------------------------------------------------------------------------------------------------------------------------------------------------------------------------------------------------------------------------------------------------------------------------------------------------------------------------------------------------------------------------------------------------------------------------------------------------------------------------------------------------------------------------------------------------------------------------------------------------------------------------------------------------------------------------------+\n",
            "\n"
          ]
        }
      ],
      "source": [
        "query_bert = pipeline.fit(query_df).transform(query_df)\n",
        "#query_bert.show()\n",
        "query_bert.selectExpr(\"title\", \"explode(finished_embeddings) as result\").show(truncate=False)\n",
        "\n",
        "query2_bert = pipeline.fit(query2_df).transform(query2_df)\n",
        "#query_bert.show()\n",
        "query2_bert.selectExpr(\"title\", \"explode(finished_embeddings) as result\").show(truncate=False)"
      ]
    },
    {
      "cell_type": "markdown",
      "metadata": {
        "id": "e8JhoSPWSUke"
      },
      "source": [
        "##**Test Queries Using Cosine Similarity UDF**"
      ]
    },
    {
      "cell_type": "markdown",
      "source": [
        "Now that we have vector embeddings for data inside the small sample dataset and for our query movies, we run a Cosine Similarity UDF on the PySpark dataframes to confirm that we retain contextual information in the vectors. We expect the movies with the highest similarity to Iron Man to be Marvel movies and superhero movies. We expect the movies with the highest similarity to Paranormal Activity to be horror movies. \n",
        "\n",
        "The top 3 highest similarity movies, with their Cosine Similarity and their plot are displayed."
      ],
      "metadata": {
        "id": "Ba0EFSKV1ROJ"
      }
    },
    {
      "cell_type": "code",
      "execution_count": null,
      "metadata": {
        "colab": {
          "base_uri": "https://localhost:8080/"
        },
        "id": "G0LLPyjtzQ1Q",
        "outputId": "766548c6-1682-438c-9dd9-4496b919a907"
      },
      "outputs": [
        {
          "output_type": "stream",
          "name": "stdout",
          "text": [
            "+---------------------------+----------+---------------------------------------------------------------------------------------------------------------------------------------------------------------------------------------------------------------------------------+\n",
            "|title                      |coSim     |text                                                                                                                                                                                                                             |\n",
            "+---------------------------+----------+---------------------------------------------------------------------------------------------------------------------------------------------------------------------------------------------------------------------------------+\n",
            "|Antman                     |0.8806755 |Armed with a super-suit with the astonishing ability to shrink in scale but increase in strength, cat burglar Scott Lang must embrace his inner hero and help his mentor, Dr. Hank Pym, pull off a plan that will save the world.|\n",
            "|Avengers: The Age of Ultron|0.8742921 |When Tony Stark and Bruce Banner try to jump-start a dormant peacekeeping program called Ultron, things go horribly wrong and it's up to Earth's mightiest heroes to stop the villainous Ultron from enacting his terrible plan. |\n",
            "|Spiderman: Homecoming      |0.86442614|Peter Parker balances his life as an ordinary high school student in Queens with his superhero alter-ego Spider-Man, and finds himself on the trail of a new menace prowling the skies of New York City.                         |\n",
            "+---------------------------+----------+---------------------------------------------------------------------------------------------------------------------------------------------------------------------------------------------------------------------------------+\n",
            "\n"
          ]
        }
      ],
      "source": [
        "def random_dense_vector(length=10):\n",
        "    return Vectors.dense([float(np.random.random()) for i in range(length)])\n",
        "\n",
        "# create a query as dense vector from input\n",
        "query_vec = query_bert.selectExpr(\"explode(finished_embeddings) as result\").collect()[0][0]\n",
        "\n",
        "# create a DF with dense vectors\n",
        "df = df_bert.selectExpr(\"title\",\"text\",\"explode(finished_embeddings) as result\")\n",
        "\n",
        "# write our UDF for cosine similarity\n",
        "def cos_sim(a,b):\n",
        "    return float(np.dot(a, b) / (np.linalg.norm(a) * np.linalg.norm(b)))\n",
        "\n",
        "# apply the UDF to the column\n",
        "df = df.withColumn(\"coSim\", udf(cos_sim, FloatType())(col(\"result\"), array([lit(v) for v in query_vec])))\n",
        "df.select(\"title\",\"coSim\",\"text\").orderBy(\"coSim\",ascending= False ).limit(3).show(truncate=False)"
      ]
    },
    {
      "cell_type": "code",
      "execution_count": null,
      "metadata": {
        "colab": {
          "base_uri": "https://localhost:8080/"
        },
        "id": "C1YxyR-K1uRn",
        "outputId": "0a2abf12-6d03-4537-b9c8-0c84a3bab24c"
      },
      "outputs": [
        {
          "output_type": "stream",
          "name": "stdout",
          "text": [
            "+-------------+----------+-------------------------------------------------------------------------------------------------------------------------------------------------------------------------------------------------------------------------------------------------------------------------------+\n",
            "|title        |coSim     |text                                                                                                                                                                                                                                                                           |\n",
            "+-------------+----------+-------------------------------------------------------------------------------------------------------------------------------------------------------------------------------------------------------------------------------------------------------------------------------+\n",
            "|The Grudge 2 |0.85794115|Three interwoven stories about a terrible curse - a young woman encounters a malevolent supernatural force while searching for her missing sister in Tokyo, a mean high school prank goes horribly wrong, a woman with a deadly secret moves into a Chicago apartment building.|\n",
            "|Scream       |0.8530151 |25 years after a streak of brutal murders shocked the quiet town of Woodsboro, Calif, a new killer dons the Ghostface mask and begins targeting a group of teenagers to resurrect secrets from the town's deadly past.                                                         |\n",
            "|A Quiet Place|0.8484347 |In a post-apocalyptic world, a family is forced to live in silence while hiding from monsters with ultra-sensitive hearing.                                                                                                                                                    |\n",
            "+-------------+----------+-------------------------------------------------------------------------------------------------------------------------------------------------------------------------------------------------------------------------------------------------------------------------------+\n",
            "\n"
          ]
        }
      ],
      "source": [
        "# create a query as dense vector from input\n",
        "first_record = query2_bert.selectExpr(\"explode(finished_embeddings) as result\").collect()[0][0]\n",
        "\n",
        "df = df_bert.selectExpr(\"title\",\"text\",\"explode(finished_embeddings) as result\")\n",
        "df = df.withColumn(\"coSim\", udf(cos_sim, FloatType())(col(\"result\"), array([lit(v) for v in first_record])))\n",
        "df.select(\"title\",\"coSim\",\"text\").orderBy(\"coSim\",ascending= False ).limit(3).show(truncate=False)"
      ]
    },
    {
      "cell_type": "markdown",
      "metadata": {
        "id": "qO50MxzgBtyR"
      },
      "source": [
        "##**Test Queries Using Extracted Embeddings with Bucketed Random Projection LSH**"
      ]
    },
    {
      "cell_type": "markdown",
      "source": [
        "As an extra step, we run the BRP LSH algorithm on the small sample dataset to ensure we can retrieve the top 3 approximate nearest neighbors and that the retrieved movies match the output from the Cosine Similarity check above. "
      ],
      "metadata": {
        "id": "G_Y597Us7tbg"
      }
    },
    {
      "cell_type": "code",
      "execution_count": null,
      "metadata": {
        "id": "ETz-WuT0Ze67"
      },
      "outputs": [],
      "source": [
        "df_brp = df_bert.selectExpr(\"title\",\"text\",\"explode(finished_embeddings) as result\")"
      ]
    },
    {
      "cell_type": "code",
      "execution_count": null,
      "metadata": {
        "colab": {
          "base_uri": "https://localhost:8080/"
        },
        "id": "2qIfGyN8-znW",
        "outputId": "dbb1971a-6330-4b2f-80f9-2468707f5770"
      },
      "outputs": [
        {
          "name": "stdout",
          "output_type": "stream",
          "text": [
            "Approximately searching df for 3 nearest neighbors of the key, Iron Man 1:\n",
            "+--------------------+--------------------+--------------------+--------------------+------------------+\n",
            "|               title|                text|              result|              hashes|           distCol|\n",
            "+--------------------+--------------------+--------------------+--------------------+------------------+\n",
            "|              Antman|Armed with a supe...|[-0.5918337702751...|[[-1.0], [0.0], [...|4.8372219123421685|\n",
            "|Avengers: The Age...|When Tony Stark a...|[-0.3572331964969...|[[-1.0], [0.0], [...| 4.947485084898582|\n",
            "|Spiderman: Homeco...|Peter Parker bala...|[-0.1944843232631...|[[-1.0], [0.0], [...| 5.113532207528354|\n",
            "+--------------------+--------------------+--------------------+--------------------+------------------+\n",
            "\n",
            "Approximately searching df for 3 nearest neighbors of the key, Paranormal Activity:\n",
            "+--------------------+--------------------+--------------------+--------------------+------------------+\n",
            "|               title|                text|              result|              hashes|           distCol|\n",
            "+--------------------+--------------------+--------------------+--------------------+------------------+\n",
            "|              Scream|25 years after a ...|[-0.8217607140541...|[[-1.0], [0.0], [...| 5.360790443636923|\n",
            "|Jeepers Creepers:...|Forced to travel ...|[-0.6041266322135...|[[-1.0], [0.0], [...| 5.590520017277832|\n",
            "|       A Quiet Place|In a post-apocaly...|[-0.7139595746994...|[[-1.0], [0.0], [...|5.6097211904839925|\n",
            "+--------------------+--------------------+--------------------+--------------------+------------------+\n",
            "\n"
          ]
        }
      ],
      "source": [
        "brp = BucketedRandomProjectionLSH(inputCol=\"result\", outputCol=\"hashes\", bucketLength=2.0,\n",
        "                                  numHashTables=3)\n",
        "model = brp.fit(df_brp)\n",
        "\n",
        "\n",
        "query_vec1 = query_bert.selectExpr(\"explode(finished_embeddings) as result\").collect()[0][0]\n",
        "query_vec2 = query2_bert.selectExpr(\"explode(finished_embeddings) as result\").collect()[0][0]\n",
        "\n",
        "print(\"Approximately searching df for 3 nearest neighbors of the key, Iron Man 1:\")\n",
        "model.approxNearestNeighbors(df_brp, query_vec1, 3).show()\n",
        "\n",
        "print(\"Approximately searching df for 3 nearest neighbors of the key, Paranormal Activity:\")\n",
        "model.approxNearestNeighbors(df_brp, query_vec2, 3).show()"
      ]
    },
    {
      "cell_type": "markdown",
      "metadata": {
        "id": "F3wRxM9MCuG1"
      },
      "source": [
        "##**BRP-LSH Example on Simple Test Data**"
      ]
    },
    {
      "cell_type": "markdown",
      "source": [
        "The codeblock below shows how BRP-LSH would work on a simple test dataset using vector representations of some information. Since BRP implements an LSH class for Euclidean Distances, we can expect that vectors with a high cosine similarity score will have a low Euclidean Distance metric. This is shown by the derivation below highlighting the relationship between Cosine Similarity and Euclidean Distance for vectors."
      ],
      "metadata": {
        "id": "YWkdvXf_9Zj_"
      }
    },
    {
      "cell_type": "code",
      "execution_count": null,
      "metadata": {
        "colab": {
          "base_uri": "https://localhost:8080/"
        },
        "id": "ioFtomIzCCi9",
        "outputId": "6d48b459-b3b9-4ac5-9b84-bb98ec94c3e0"
      },
      "outputs": [
        {
          "output_type": "stream",
          "name": "stdout",
          "text": [
            "The hashed dataset where hashed values are stored in the column 'hashes':\n",
            "+---+--------------------+--------------------+\n",
            "| id|            features|              hashes|\n",
            "+---+--------------------+--------------------+\n",
            "|  0|[1.0,1.0,1.0,1.0,...|[[0.0], [-1.0], [...|\n",
            "|  1|[-1.0,-1.0,1.0,-1...|[[-1.0], [-1.0], ...|\n",
            "|  2|[1.0,-1.0,1.0,1.0...|[[0.0], [-1.0], [...|\n",
            "|  3|[1.0,-1.0,1.0,-1....|[[0.0], [-1.0], [...|\n",
            "+---+--------------------+--------------------+\n",
            "\n",
            "Approximately searching dfA for 2 nearest neighbors of the key:\n",
            "+---+--------------------+--------------------+----------------+\n",
            "| id|            features|              hashes|         distCol|\n",
            "+---+--------------------+--------------------+----------------+\n",
            "|  1|[-1.0,-1.0,1.0,-1...|[[-1.0], [-1.0], ...|             1.0|\n",
            "|  3|[1.0,-1.0,1.0,-1....|[[0.0], [-1.0], [...|2.23606797749979|\n",
            "+---+--------------------+--------------------+----------------+\n",
            "\n"
          ]
        }
      ],
      "source": [
        "from pyspark.ml.feature import BucketedRandomProjectionLSH\n",
        "from pyspark.ml.linalg import Vectors\n",
        "from pyspark.sql.functions import col\n",
        "\n",
        "dataA = [(0, Vectors.dense([1.0, 1.0, 1.0, 1.0, 1.0]),),\n",
        "         (1, Vectors.dense([-1.0, -1.0, 1.0, -1.0, -1.0]),),\n",
        "         (2, Vectors.dense([1.0, -1.0, 1.0, 1.0, -1.0]),),\n",
        "         (3, Vectors.dense([1.0, -1.0, 1.0, -1.0, -1.0]),)]\n",
        "dfA = spark.createDataFrame(dataA, [\"id\", \"features\"])\n",
        "\n",
        "key = Vectors.dense([-1.0, -1.0, 0.0, -1.0, -1.0])\n",
        "\n",
        "brp = BucketedRandomProjectionLSH(inputCol=\"features\", outputCol=\"hashes\", bucketLength=2.0,\n",
        "                                  numHashTables=3)\n",
        "model = brp.fit(dfA)\n",
        "\n",
        "# Feature Transformation\n",
        "print(\"The hashed dataset where hashed values are stored in the column 'hashes':\")\n",
        "model.transform(dfA).show()\n",
        "\n",
        "# Compute the locality sensitive hashes for the input rows, then perform approximate nearest\n",
        "# neighbor search.\n",
        "print(\"Approximately searching dfA for 2 nearest neighbors of the key:\")\n",
        "model.approxNearestNeighbors(dfA, key, 2).show()"
      ]
    },
    {
      "cell_type": "markdown",
      "metadata": {
        "id": "Fl1qPtTYCDAD"
      },
      "source": [
        "#**Data Preprocessing and Transformation at Scale**"
      ]
    },
    {
      "cell_type": "markdown",
      "source": [
        "The codeblocks provided below highlights how the MovieLens dataset can be augmented with movie descriptions from IMDb and TMDb. We strongly recommend making sure you've set up protections to work around anti-scraping systems if you want to run the cells below! We ultimately chose to run scraping offline and then save an augmented dataset to work with for future sections of the notebook. A sample subset of the augmented data is available at https://raw.githubusercontent.com/azraf-a/BERT_SparkNLP_Filter/main/final_data_small.csv and this small subset is used in future portions of this notebook. \n",
        "\n",
        "The cells below first show how the scraping process would work for IMDb and then how it would work for TMDb. In both cases we create a joined PySpark Dataframe, formulate a scraping function and then convert that function to UDFs and run it across the initial MovieLens dataset. The only difference is in the id values used, the format of the links generated and the area of the URL we scrape information from."
      ],
      "metadata": {
        "id": "qU0jhFRvIs6d"
      }
    },
    {
      "cell_type": "code",
      "execution_count": null,
      "metadata": {
        "id": "z8qup7lU-zkl"
      },
      "outputs": [],
      "source": [
        "import os\n",
        "import pyspark\n",
        "import pandas as pd\n",
        "import numpy as np\n",
        "import matplotlib.pyplot as plt\n",
        "from pyspark.sql.functions import concat_ws\n",
        "from pyspark.sql.types import StructType,IntegerType,StringType\n",
        "import requests\n",
        "from bs4 import BeautifulSoup"
      ]
    },
    {
      "cell_type": "markdown",
      "source": [
        "##**Upload and setup MovieLens data as PySpark Dataframes**"
      ],
      "metadata": {
        "id": "Oelvpfk1JQX1"
      }
    },
    {
      "cell_type": "code",
      "execution_count": null,
      "metadata": {
        "id": "ZkjznLco-XBX"
      },
      "outputs": [],
      "source": [
        "#Schema for links, reading movie id as String because of initial zeroes being ignored when reading as int\n",
        "schema = StructType() \\\n",
        "      .add(\"movieId\",IntegerType(),True) \\\n",
        "      .add(\"imdbId\",StringType(),True) \\\n",
        "      .add(\"tmdbId\",IntegerType(),True)\n",
        "links = spark\\\n",
        ".read\\\n",
        ".schema(schema)\\\n",
        ".option(\"header\", \"true\")\\\n",
        ".csv(\"links.csv\")\n",
        "movies = spark\\\n",
        ".read\\\n",
        ".option(\"inferSchema\",\"true\")\\\n",
        ".option(\"header\", \"true\")\\\n",
        ".csv(\"movies.csv\")"
      ]
    },
    {
      "cell_type": "markdown",
      "source": [
        "##**Perform Join Operation on Links and Movies Dataframes to access imdbId and tmdbId**"
      ],
      "metadata": {
        "id": "2SKty-waJaCM"
      }
    },
    {
      "cell_type": "code",
      "execution_count": null,
      "metadata": {
        "colab": {
          "base_uri": "https://localhost:8080/"
        },
        "id": "zjNYx96O-W8l",
        "outputId": "3ad6e91d-6d50-4cd6-9448-2f5381864d2d"
      },
      "outputs": [
        {
          "output_type": "stream",
          "name": "stdout",
          "text": [
            "+-------+-------------------------------------+-------------------------------------------+-------+------+\n",
            "|movieId|title                                |genres                                     |imdbId |tmdbId|\n",
            "+-------+-------------------------------------+-------------------------------------------+-------+------+\n",
            "|1      |Toy Story (1995)                     |Adventure|Animation|Children|Comedy|Fantasy|0114709|862   |\n",
            "|2      |Jumanji (1995)                       |Adventure|Children|Fantasy                 |0113497|8844  |\n",
            "|3      |Grumpier Old Men (1995)              |Comedy|Romance                             |0113228|15602 |\n",
            "|4      |Waiting to Exhale (1995)             |Comedy|Drama|Romance                       |0114885|31357 |\n",
            "|5      |Father of the Bride Part II (1995)   |Comedy                                     |0113041|11862 |\n",
            "|6      |Heat (1995)                          |Action|Crime|Thriller                      |0113277|949   |\n",
            "|7      |Sabrina (1995)                       |Comedy|Romance                             |0114319|11860 |\n",
            "|8      |Tom and Huck (1995)                  |Adventure|Children                         |0112302|45325 |\n",
            "|9      |Sudden Death (1995)                  |Action                                     |0114576|9091  |\n",
            "|10     |GoldenEye (1995)                     |Action|Adventure|Thriller                  |0113189|710   |\n",
            "|11     |American President, The (1995)       |Comedy|Drama|Romance                       |0112346|9087  |\n",
            "|12     |Dracula: Dead and Loving It (1995)   |Comedy|Horror                              |0112896|12110 |\n",
            "|13     |Balto (1995)                         |Adventure|Animation|Children               |0112453|21032 |\n",
            "|14     |Nixon (1995)                         |Drama                                      |0113987|10858 |\n",
            "|15     |Cutthroat Island (1995)              |Action|Adventure|Romance                   |0112760|1408  |\n",
            "|16     |Casino (1995)                        |Crime|Drama                                |0112641|524   |\n",
            "|17     |Sense and Sensibility (1995)         |Drama|Romance                              |0114388|4584  |\n",
            "|18     |Four Rooms (1995)                    |Comedy                                     |0113101|5     |\n",
            "|19     |Ace Ventura: When Nature Calls (1995)|Comedy                                     |0112281|9273  |\n",
            "|20     |Money Train (1995)                   |Action|Comedy|Crime|Drama|Thriller         |0113845|11517 |\n",
            "+-------+-------------------------------------+-------------------------------------------+-------+------+\n",
            "only showing top 20 rows\n",
            "\n"
          ]
        }
      ],
      "source": [
        "final_data=movies.join(links, ['movieId'])\n",
        "final_data.show(truncate=False)"
      ]
    },
    {
      "cell_type": "markdown",
      "source": [
        "##**Generate a link column to IMDb or TMDb using the id information**"
      ],
      "metadata": {
        "id": "rn1SocB7JjAE"
      }
    },
    {
      "cell_type": "markdown",
      "source": [
        "###**For IMDb**"
      ],
      "metadata": {
        "id": "FBrGdARLVFEh"
      }
    },
    {
      "cell_type": "code",
      "execution_count": null,
      "metadata": {
        "colab": {
          "base_uri": "https://localhost:8080/"
        },
        "id": "BYWDRRAUViWJ",
        "outputId": "c3f4f6fc-a6b8-4088-fca3-f371bda1adcf"
      },
      "outputs": [
        {
          "output_type": "stream",
          "name": "stdout",
          "text": [
            "root\n",
            " |-- movieId: integer (nullable = true)\n",
            " |-- title: string (nullable = true)\n",
            " |-- genres: string (nullable = true)\n",
            " |-- imdbId: string (nullable = true)\n",
            " |-- tmdbId: integer (nullable = true)\n",
            "\n",
            "root\n",
            " |-- movieId: integer (nullable = true)\n",
            " |-- title: string (nullable = true)\n",
            " |-- genres: string (nullable = true)\n",
            " |-- imdbId: string (nullable = true)\n",
            " |-- tmdbId: integer (nullable = true)\n",
            " |-- link: string (nullable = false)\n",
            "\n"
          ]
        }
      ],
      "source": [
        "final_data.printSchema()\n",
        "final_data=final_data.withColumn(\"link\", concat_ws(\"\",lit(\"https://www.imdb.com/title/tt\"),'imdbId'))\n",
        "final_data.printSchema()"
      ]
    },
    {
      "cell_type": "markdown",
      "source": [
        "###**For TMDb**"
      ],
      "metadata": {
        "id": "4uYAmEtFVGIq"
      }
    },
    {
      "cell_type": "code",
      "source": [
        "final_data.printSchema()\n",
        "final_data=final_data.withColumn(\"link\", concat_ws(\"\",lit(\"https://www.themoviedb.org/movie/\"),'tmdbId'))\n",
        "final_data.printSchema()"
      ],
      "metadata": {
        "id": "s6ves2cZVENb"
      },
      "execution_count": null,
      "outputs": []
    },
    {
      "cell_type": "markdown",
      "source": [
        "##**Create Scraping Functions to retrieve appropriate movie plot descriptions and synopsis**"
      ],
      "metadata": {
        "id": "etrabMT4JqUN"
      }
    },
    {
      "cell_type": "markdown",
      "source": [
        "###**For IMDb**"
      ],
      "metadata": {
        "id": "qbI9qqmnU21a"
      }
    },
    {
      "cell_type": "code",
      "execution_count": null,
      "metadata": {
        "id": "h0KoAJezViSh"
      },
      "outputs": [],
      "source": [
        "def get_data_description(URL):\n",
        "    page = requests.get(URL)\n",
        "    soup = BeautifulSoup(page.content, \"html.parser\")\n",
        "    description = soup.find(\"span\", {\"data-testid\": \"plot-xl\"}).text\n",
        "    description = description.replace(\".\",\"\")\n",
        "    description = description+\".\"\n",
        "    return description\n",
        "def get_data_synopsis(URL):\n",
        "    page = requests.get(URL)\n",
        "    soup = BeautifulSoup(page.content, \"html.parser\")\n",
        "    synopsis = soup.find(\"div\", {\"class\": \"ipc-html-content-inner-div\"}).text\n",
        "    synopsis=synopsis.split(\"—\")\n",
        "    synopsis=synopsis[0]\n",
        "    return synopsis"
      ]
    },
    {
      "cell_type": "markdown",
      "source": [
        "###**For TMDb**"
      ],
      "metadata": {
        "id": "APduXpNZUxsf"
      }
    },
    {
      "cell_type": "code",
      "source": [
        "def get_data_description(URL):\n",
        "    page = requests.get(URL)\n",
        "    soup = BeautifulSoup(page.content, \"html.parser\")\n",
        "    description=\"\"\n",
        "    try:\n",
        "      description = soup.findAll(\"div\", {\"class\": \"overview\"}).text\n",
        "      description = description.replace(\".\",\"\")\n",
        "      description = description+\".\"\n",
        "    except:\n",
        "      pass\n",
        "    return description"
      ],
      "metadata": {
        "id": "5oV6F7aDUv1C"
      },
      "execution_count": null,
      "outputs": []
    },
    {
      "cell_type": "markdown",
      "source": [
        "##**Apply Scraping Functions as UDFs to retrieve data at scale**"
      ],
      "metadata": {
        "id": "Vc8EUdpVJwmE"
      }
    },
    {
      "cell_type": "code",
      "execution_count": null,
      "metadata": {
        "colab": {
          "base_uri": "https://localhost:8080/"
        },
        "id": "6FJss6JEVkrf",
        "outputId": "a11d7e46-bb01-4b18-ae80-40e0a4b08110"
      },
      "outputs": [
        {
          "output_type": "stream",
          "name": "stdout",
          "text": [
            "root\n",
            " |-- movieId: integer (nullable = true)\n",
            " |-- title: string (nullable = true)\n",
            " |-- genres: string (nullable = true)\n",
            " |-- imdbId: string (nullable = true)\n",
            " |-- tmdbId: integer (nullable = true)\n",
            " |-- link: string (nullable = false)\n",
            " |-- Description: string (nullable = true)\n",
            " |-- Synopsis: string (nullable = true)\n",
            "\n"
          ]
        }
      ],
      "source": [
        "desUDF = udf(lambda z: get_data_description(z),StringType())\n",
        "synUDF = udf(lambda z: get_data_synopsis(z),StringType())\n",
        "final_data=final_data.withColumn(\"Description\", desUDF(col(\"link\")))\n",
        "final_data=final_data.withColumn(\"Synopsis\", synUDF(col(\"link\")))\n",
        "final_data.printSchema()"
      ]
    },
    {
      "cell_type": "code",
      "execution_count": null,
      "metadata": {
        "id": "wh8ASPP-usAp",
        "colab": {
          "base_uri": "https://localhost:8080/"
        },
        "outputId": "3a8b3e30-ed3f-4c99-bb05-48ab73640968"
      },
      "outputs": [
        {
          "output_type": "stream",
          "name": "stdout",
          "text": [
            "+-------+--------------------+--------------------+-------+------+--------------------+--------------------+--------------------+\n",
            "|movieId|               title|              genres| imdbId|tmdbId|                link|         Description|            Synopsis|\n",
            "+-------+--------------------+--------------------+-------+------+--------------------+--------------------+--------------------+\n",
            "|      1|    Toy Story (1995)|Adventure|Animati...|0114709|   862|https://www.imdb....|A cowboy doll is ...|A little boy name...|\n",
            "|      2|      Jumanji (1995)|Adventure|Childre...|0113497|  8844|https://www.imdb....|When two kids fin...|Jumanji, one of t...|\n",
            "|      3|Grumpier Old Men ...|      Comedy|Romance|0113228| 15602|https://www.imdb....|John and Max reso...|Things don't seem...|\n",
            "+-------+--------------------+--------------------+-------+------+--------------------+--------------------+--------------------+\n",
            "only showing top 3 rows\n",
            "\n",
            "root\n",
            " |-- movieId: integer (nullable = true)\n",
            " |-- title: string (nullable = true)\n",
            " |-- genres: string (nullable = true)\n",
            " |-- imdbId: string (nullable = true)\n",
            " |-- tmdbId: integer (nullable = true)\n",
            " |-- link: string (nullable = false)\n",
            " |-- Description: string (nullable = true)\n",
            " |-- Synopsis: string (nullable = true)\n",
            "\n"
          ]
        }
      ],
      "source": [
        "final_data.show(3)\n",
        "final_data.cache()\n",
        "final_data.printSchema()"
      ]
    },
    {
      "cell_type": "code",
      "execution_count": null,
      "metadata": {
        "id": "jwHjEuUgiIlk",
        "colab": {
          "base_uri": "https://localhost:8080/"
        },
        "outputId": "4a324e97-62b7-4718-8f34-36c8ec135e5d"
      },
      "outputs": [
        {
          "output_type": "execute_result",
          "data": {
            "text/plain": [
              "True"
            ]
          },
          "metadata": {},
          "execution_count": 13
        }
      ],
      "source": [
        "final_data.is_cached"
      ]
    },
    {
      "cell_type": "markdown",
      "source": [
        "##**Drop Unnecessary Columns - we only need titles and descriptions**"
      ],
      "metadata": {
        "id": "loGFIfYLJ4CM"
      }
    },
    {
      "cell_type": "code",
      "execution_count": null,
      "metadata": {
        "id": "1JdTiRA8edG-"
      },
      "outputs": [],
      "source": [
        "final_data = final_data.drop('movieId')\n",
        "final_data = final_data.drop('genres')\n",
        "final_data = final_data.drop('imdbId')\n",
        "final_data = final_data.drop('tmdbId')"
      ]
    },
    {
      "cell_type": "code",
      "source": [
        "final_data = final_data.drop('link')\n",
        "final_data = final_data.drop('Synopsis')"
      ],
      "metadata": {
        "id": "ymv8YQuTBXx_"
      },
      "execution_count": null,
      "outputs": []
    },
    {
      "cell_type": "markdown",
      "source": [
        "##**Final Schema of the Dataset that is saved**"
      ],
      "metadata": {
        "id": "8RnW3ICrJ9UN"
      }
    },
    {
      "cell_type": "markdown",
      "source": [
        "This final PySpark Dataframe with the titles of movies and plot descriptions is then saved for use with the BERT Pipeline. "
      ],
      "metadata": {
        "id": "Uxo0P7SZL0X0"
      }
    },
    {
      "cell_type": "code",
      "source": [
        "final_data.printSchema()"
      ],
      "metadata": {
        "colab": {
          "base_uri": "https://localhost:8080/"
        },
        "id": "iOLRp_EsBdW2",
        "outputId": "429a8e96-9008-4b95-b082-8d54a6b3a264"
      },
      "execution_count": null,
      "outputs": [
        {
          "output_type": "stream",
          "name": "stdout",
          "text": [
            "root\n",
            " |-- title: string (nullable = true)\n",
            " |-- Description: string (nullable = true)\n",
            "\n"
          ]
        }
      ]
    },
    {
      "cell_type": "markdown",
      "metadata": {
        "id": "HwY6lnSNBJM2"
      },
      "source": [
        "#**Using Saved Output**"
      ]
    },
    {
      "cell_type": "markdown",
      "source": [
        "As noted in the final report and the sections above, the rest of the notebook shows the pipeline's performance on a saved augmented dataset. This dataset can be accessed at the GitHub link provided. This contains movie titles and plot descriptions gathered from TMDb. 10 random samples from this dataset is generated and displayed below."
      ],
      "metadata": {
        "id": "Bl0QGpwALbMU"
      }
    },
    {
      "cell_type": "code",
      "execution_count": null,
      "metadata": {
        "id": "KKOsMLHM4v7L",
        "colab": {
          "base_uri": "https://localhost:8080/"
        },
        "outputId": "798fd2fe-5079-4502-d3f4-0a733bd7757f"
      },
      "outputs": [
        {
          "output_type": "stream",
          "name": "stdout",
          "text": [
            "--2022-05-15 18:41:31--  https://raw.githubusercontent.com/azraf-a/BERT_SparkNLP_Filter/main/final_data_small.csv\n",
            "Resolving raw.githubusercontent.com (raw.githubusercontent.com)... 185.199.109.133, 185.199.110.133, 185.199.108.133, ...\n",
            "Connecting to raw.githubusercontent.com (raw.githubusercontent.com)|185.199.109.133|:443... connected.\n",
            "HTTP request sent, awaiting response... 200 OK\n",
            "Length: 1565040 (1.5M) [text/plain]\n",
            "Saving to: ‘final_data_small.csv’\n",
            "\n",
            "final_data_small.cs 100%[===================>]   1.49M  --.-KB/s    in 0.06s   \n",
            "\n",
            "2022-05-15 18:41:32 (23.1 MB/s) - ‘final_data_small.csv’ saved [1565040/1565040]\n",
            "\n"
          ]
        }
      ],
      "source": [
        "!wget https://raw.githubusercontent.com/azraf-a/BERT_SparkNLP_Filter/main/final_data_small.csv -O final_data_small.csv\n",
        "\n",
        "final_data = spark\\\n",
        ".read\\\n",
        ".option(\"inferSchema\",\"true\")\\\n",
        ".option(\"header\", \"true\")\\\n",
        ".csv(\"final_data_small.csv\")"
      ]
    },
    {
      "cell_type": "code",
      "execution_count": null,
      "metadata": {
        "colab": {
          "base_uri": "https://localhost:8080/"
        },
        "id": "y88EjaGt48-M",
        "outputId": "1b33100c-05a6-45ee-a119-665932f026c1"
      },
      "outputs": [
        {
          "output_type": "stream",
          "name": "stdout",
          "text": [
            "root\n",
            " |-- title: string (nullable = true)\n",
            " |-- Description: string (nullable = true)\n",
            "\n"
          ]
        }
      ],
      "source": [
        "final_data.printSchema()"
      ]
    },
    {
      "cell_type": "code",
      "execution_count": null,
      "metadata": {
        "colab": {
          "base_uri": "https://localhost:8080/"
        },
        "id": "bzzORTYcChb8",
        "outputId": "5b0f6ede-7c52-4c64-a711-688e8157e7e5"
      },
      "outputs": [
        {
          "output_type": "stream",
          "name": "stdout",
          "text": [
            "+-------------------------+------------------------------------------------------------------------------------------------------------------------------------------------------------------------------------------------------------------------------------------------------------------------------------------------------------------------------------------------------------------------------------------------------------------------------------------------------------------------------------------------------------------------------------------------------------------------------------------------------------------------------------+\n",
            "|title                    |Description                                                                                                                                                                                                                                                                                                                                                                                                                                                                                                                                                                                                                         |\n",
            "+-------------------------+------------------------------------------------------------------------------------------------------------------------------------------------------------------------------------------------------------------------------------------------------------------------------------------------------------------------------------------------------------------------------------------------------------------------------------------------------------------------------------------------------------------------------------------------------------------------------------------------------------------------------------+\n",
            "|Birth                    |It took Anna 10 years to recover from the death of her husband, Sean, but now she's on the verge of marrying her boyfriend, Joseph, and finally moving on However, on the night of her engagement party, a young boy named Sean turns up, saying he is her dead husband reincarnated At first she ignores the child, but his knowledge of her former husband's life is uncanny, leading her to believe that he might be telling the truth                                                                                                                                                                                           |\n",
            "|The Legend of Zorro      |Having spent the last 10 years fighting injustice and cruelty, Alejandro de la Vega is now facing his greatest challenge: his loving wife Elena has thrown him out of the house!  Elena has filed for divorce and found comfort in the arms of Count Armand, a dashing French aristocrat  But Alejandro knows something she doesn't: Armand is the evil mastermind behind a terrorist plot to destroy the United States  And so, with his marriage and the county's future at stake, it's up to Zorro to save two unions before it's too late                                                                                       |\n",
            "|Unfriended               |While video chatting one night, six high school friends receive a Skype message from a classmate who killed herself exactly one year ago A first they think it's a prank, but when the girl starts revealing the friends' darkest secrets, they realize they are dealing with something out of this world, something that wants them dead Told entirely from a young girl's computer desktop, Unfriended redefines 'found footage' for a new generation of teens                                                                                                                                                                    |\n",
            "|Life or Something Like It|A reporter Lanie Kerrigan interviews a psychic homeless man for a fluff piece about a football game's score Instead he tells her that her life has no meaning and is going to end in just a few days, which sparks her to action, trying to change the pattern of her life..                                                                                                                                                                                                                                                                                                                                                        |\n",
            "|A Single Man             |Adapted from a 1964 novel of the same name, the film follows a day in the life of George Falconer, a British college professor reeling with the recent and sudden loss of his longtime partner This traumatic event makes George challenge his own will to live as he seeks the console of close friend Charley who is struggling with her own questions about life                                                                                                                                                                                                                                                                 |\n",
            "|Latter Days              |Aaron Davis (Steve Sandvoss) and Christian Markelli (Wes Ramsey) are the two most opposite people in the world Aaron is a young Elder (or a Mormon missionary) who wants to do his family proud and is quite passionate about his religion and film Christian is a shallow WeHo waiter/party boy who only looks forward to bedding a new guy every night                                                                                                                                                                                                                                                                            |\n",
            "|The Descendants          |With his wife Elizabeth on life support after a boating accident, Hawaiian land baron, Matt King takes his daughters on a trip from Oahu to Kauai to confront the young real estate broker, who was having an affair with Elizabeth before her misfortune                                                                                                                                                                                                                                                                                                                                                                           |\n",
            "|Wish I Was Here          |Aidan Bloom, a struggling actor, father and husband, is 35 years old and still trying to find a purpose for his life He and his wife are barely getting by financially and Aidan passes his time by fantasizing about being the great futuristic Space-Knight he'd always dreamed he'd be as a little kid When his ailing father can no longer afford to pay for private school for his two kids and the only available public school is on its last legs, Aidan reluctantly agrees to attempt to home-school them Through teaching them about life his way, Aidan gradually discovers some of the parts of himself he couldn't find|\n",
            "|The French Connection    |Tough narcotics detective 'Popeye' Doyle is in hot pursuit of a suave French drug dealer who may be the key to a huge heroin-smuggling operation                                                                                                                                                                                                                                                                                                                                                                                                                                                                                    |\n",
            "|Pretty Woman             |When millionaire wheeler-dealer Edward Lewis enters a business contract with Hollywood hooker Vivian Ward, he loses his heart in the bargain in this charming romantic comedy After Edward hires Vivian as his date for a week and gives her a Cinderella makeover, she returns the favor by mellowing the hardnosed tycoon's outlook Can the poor prostitute and the rich capitalist live happily ever after?                                                                                                                                                                                                                      |\n",
            "+-------------------------+------------------------------------------------------------------------------------------------------------------------------------------------------------------------------------------------------------------------------------------------------------------------------------------------------------------------------------------------------------------------------------------------------------------------------------------------------------------------------------------------------------------------------------------------------------------------------------------------------------------------------------+\n",
            "only showing top 10 rows\n",
            "\n"
          ]
        }
      ],
      "source": [
        "df = (final_data.withColumn(\"Description\", regexp_replace('Description', '\\\\.(?=\\\\s|$)', '')))\n",
        "\n",
        "df.orderBy(rand()).show(10, truncate=False)"
      ]
    },
    {
      "cell_type": "markdown",
      "metadata": {
        "id": "bGoaB3U_MYM_"
      },
      "source": [
        "#**Extracting Approximate Nearest Neighbors for Queries Across MovieLens Dataset**"
      ]
    },
    {
      "cell_type": "markdown",
      "metadata": {
        "id": "aGOQlZeXMnrY"
      },
      "source": [
        "##**Generate BERT Pipeline**"
      ]
    },
    {
      "cell_type": "code",
      "execution_count": null,
      "metadata": {
        "colab": {
          "base_uri": "https://localhost:8080/"
        },
        "id": "GSWJ7vUeMimt",
        "outputId": "f53b5507-d011-4b7b-bbf2-4d55ea80ff2b"
      },
      "outputs": [
        {
          "output_type": "stream",
          "name": "stdout",
          "text": [
            "sent_small_bert_L2_128 download started this may take some time.\n",
            "Approximate size to download 16.1 MB\n",
            "[OK!]\n"
          ]
        }
      ],
      "source": [
        "documentAssembler = DocumentAssembler() \\\n",
        "    .setInputCol(\"Description\") \\\n",
        "    .setOutputCol(\"document\")\n",
        "sentence = SentenceDetector() \\\n",
        "    .setInputCols([\"document\"]) \\\n",
        "    .setOutputCol(\"sentence\")\n",
        "\n",
        "embeddings = BertSentenceEmbeddings.pretrained(\"sent_small_bert_L2_128\") \\\n",
        "    .setInputCols([\"sentence\"]) \\\n",
        "    .setOutputCol(\"sentence_bert_embeddings\")\n",
        "\n",
        "embeddingsFinisher = EmbeddingsFinisher() \\\n",
        "    .setInputCols([\"sentence_bert_embeddings\"]) \\\n",
        "    .setOutputCols(\"finished_embeddings\") \\\n",
        "    .setOutputAsVector(True)\n",
        "    \n",
        "pipeline = Pipeline().setStages([\n",
        "    documentAssembler,\n",
        "    sentence,\n",
        "    embeddings,\n",
        "    embeddingsFinisher\n",
        "])"
      ]
    },
    {
      "cell_type": "markdown",
      "metadata": {
        "id": "C94FPn-rMrdB"
      },
      "source": [
        "##**Generate BucketedRandomProjections LSH Pipeline**"
      ]
    },
    {
      "cell_type": "code",
      "execution_count": null,
      "metadata": {
        "id": "7ZK1btYvMzRu"
      },
      "outputs": [],
      "source": [
        "brp = BucketedRandomProjectionLSH( \\\n",
        "                                  inputCol=\"result\", \\\n",
        "                                  outputCol=\"hashes\", \\\n",
        "                                  bucketLength=2.0, \\\n",
        "                                  numHashTables=3)"
      ]
    },
    {
      "cell_type": "markdown",
      "metadata": {
        "id": "5UeJu4_gM7Lp"
      },
      "source": [
        "##**Generate BERT Embeddings Across Processed Dataset with Movie Descriptions**"
      ]
    },
    {
      "cell_type": "code",
      "execution_count": null,
      "metadata": {
        "id": "Jjv7qXzFBlXQ"
      },
      "outputs": [],
      "source": [
        "movielens_bert = pipeline.fit(df).transform(df)\n",
        "movielens_bert = movielens_bert.selectExpr(\"title\",\"Description\",\"explode(finished_embeddings) as result\")"
      ]
    },
    {
      "cell_type": "markdown",
      "metadata": {
        "id": "wGZ3kOJINHoc"
      },
      "source": [
        "##**Setup BRP-LSH Model for Approximate Nearest Neighbors**"
      ]
    },
    {
      "cell_type": "code",
      "execution_count": null,
      "metadata": {
        "id": "jEfinpIANEVn",
        "colab": {
          "base_uri": "https://localhost:8080/"
        },
        "outputId": "64e9397c-3947-4fd5-c23e-17b4de105938"
      },
      "outputs": [
        {
          "output_type": "execute_result",
          "data": {
            "text/plain": [
              "DataFrame[title: string, Description: string, result: vector]"
            ]
          },
          "metadata": {},
          "execution_count": 87
        }
      ],
      "source": [
        "model = brp.fit(movielens_bert)\n",
        "movielens_bert.cache()"
      ]
    },
    {
      "cell_type": "markdown",
      "source": [
        "##**Final Queries: Selecting 3 Random Queries**"
      ],
      "metadata": {
        "id": "vfqbNmVGDxWO"
      }
    },
    {
      "cell_type": "markdown",
      "source": [
        "Three movies are randomly sampled from the dataset after passing it through the BERT Pipeline. The vectors for these movies are then used as queries into the BRP-LSH Pipeline to generate approximate nearest neighbor searches based on vectorized representations of the movie plots. "
      ],
      "metadata": {
        "id": "uJEjXuucMIc7"
      }
    },
    {
      "cell_type": "code",
      "execution_count": null,
      "metadata": {
        "colab": {
          "base_uri": "https://localhost:8080/"
        },
        "id": "yzJuyd4KBicz",
        "outputId": "e063ee11-159c-4258-d713-22b9843bc142"
      },
      "outputs": [
        {
          "output_type": "stream",
          "name": "stdout",
          "text": [
            "+--------------------+--------------------+--------------------+\n",
            "|               title|         Description|              result|\n",
            "+--------------------+--------------------+--------------------+\n",
            "|            Fortress|A futuristic pris...|[-0.4393174946308...|\n",
            "|Inglourious Basterds|\"In Nazi-occupied...|[-0.4569685757160...|\n",
            "|          The Wraith|Packard Walsh and...|[-0.3771486878395...|\n",
            "+--------------------+--------------------+--------------------+\n",
            "\n"
          ]
        }
      ],
      "source": [
        "from pyspark.sql.functions import *\n",
        "\n",
        "random_queries = movielens_bert.orderBy(rand()).limit(3)\n",
        "random_queries.show()"
      ]
    },
    {
      "cell_type": "markdown",
      "source": [
        "##**Final Queries: Output**"
      ],
      "metadata": {
        "id": "OaWfyrd4MpuL"
      }
    },
    {
      "cell_type": "markdown",
      "source": [
        "In the cell below, the first presented movie is the queried film. The three movies afterwards are the 3 approximate nearest neighbors whose vectors have the lowest Euclidean distance from the searched movie's vector."
      ],
      "metadata": {
        "id": "puqFy292MnWz"
      }
    },
    {
      "cell_type": "code",
      "source": [
        "query_vec4 = movielens_bert.filter(movielens_bert.title == \"Gandhi\").select(\"result\").collect()[0][0]\n",
        "query_vec5 = movielens_bert.filter(movielens_bert.title == \"The Assassination of Jesse James by the Coward Robert Ford\").select(\"result\").collect()[0][0]\n",
        "query_vec6 = movielens_bert.filter(movielens_bert.title == \"Son of God\").select(\"result\").collect()[0][0]\n",
        "\n",
        "\n",
        "print(\"Approximately searching df for 3 nearest neighbors of query 4 (The first item listed is the queried movie):\")\n",
        "model.approxNearestNeighbors(movielens_bert, query_vec4, 4).select(\"title\", \"Description\").show(truncate=False)\n",
        "\n",
        "print(\"Approximately searching df for 3 nearest neighbors of query 5 (The first item listed is the queried movie):\")\n",
        "model.approxNearestNeighbors(movielens_bert, query_vec5, 4).select(\"title\", \"Description\").show(truncate=False)\n",
        "\n",
        "print(\"Approximately searching df for 3 nearest neighbors of query 6 (The first item listed is the queried movie):\")\n",
        "model.approxNearestNeighbors(movielens_bert, query_vec6, 4).select(\"title\", \"Description\").show(truncate=False)"
      ],
      "metadata": {
        "colab": {
          "base_uri": "https://localhost:8080/"
        },
        "id": "P5WUpNWRkZs-",
        "outputId": "7293d244-5e9e-478f-a165-bce1b76fdb37"
      },
      "execution_count": null,
      "outputs": [
        {
          "output_type": "stream",
          "name": "stdout",
          "text": [
            "Approximately searching df for 3 nearest neighbors of query 4 (The first item listed is the queried movie):\n",
            "+------------------+----------------------------------------------------------------------------------------------------------------------------------------------------------------------------------------------------------------------------------------------------------------------------------------------------------------------------------------------------+\n",
            "|title             |Description                                                                                                                                                                                                                                                                                                                                         |\n",
            "+------------------+----------------------------------------------------------------------------------------------------------------------------------------------------------------------------------------------------------------------------------------------------------------------------------------------------------------------------------------------------+\n",
            "|Gandhi            |In the early years of the 20th century, Mohandas K Gandhi, a British-trained lawyer, forsakes all worldly possessions to take up the cause of Indian independence Faced with armed resistance from the British government, Gandhi adopts a policy of 'passive resistance', endeavouring to win freedom for his people without resorting to bloodshed|\n",
            "|55 Days at Peking |Diplomats, soldiers and other representatives of a dozen nations fend off the siege of the International Compound in Peking during the 1900 Boxer Rebellion The disparate interests unite for survival despite competing factions, overwhelming odds, delayed relief and tacit support of the Boxers by the Empress of China and her generals       |\n",
            "|Lawrence of Arabia|An epic about British officer T.E Lawrence's mission to aid the Arab tribes in their revolt against the Ottoman Empire during the First World War Lawrence becomes a flamboyant, messianic figure in the cause of Arab unity but his psychological instability threatens to undermine his achievements                                              |\n",
            "|Kundun            |The Tibetans refer to the Dalai Lama as 'Kundun', which means 'The Presence' He was forced to escape from his native home, Tibet, when communist China invaded and enforced an oppressive regime upon the peaceful nation The Dalai Lama escaped to India in 1959 and has been living in exile in Dharamsala ever since                             |\n",
            "+------------------+----------------------------------------------------------------------------------------------------------------------------------------------------------------------------------------------------------------------------------------------------------------------------------------------------------------------------------------------------+\n",
            "\n",
            "Approximately searching df for 3 nearest neighbors of query 5 (The first item listed is the queried movie):\n",
            "+----------------------------------------------------------+----------------------------------------------------------------------------------------------------------------------------------------------------------------------------------------------------------------------------------------------------------------------------------------------------------------------------------------------------------------------------------------------------------------------------------------------------------------------------+\n",
            "|title                                                     |Description                                                                                                                                                                                                                                                                                                                                                                                                                                                                 |\n",
            "+----------------------------------------------------------+----------------------------------------------------------------------------------------------------------------------------------------------------------------------------------------------------------------------------------------------------------------------------------------------------------------------------------------------------------------------------------------------------------------------------------------------------------------------------+\n",
            "|The Assassination of Jesse James by the Coward Robert Ford|Outlaw Jesse James is rumored be the 'fastest gun in the West' An eager recruit into James' notorious gang, Robert Ford eventually grows jealous of the famed outlaw and, when Robert and his brother sense an opportunity to kill James, their murderous action elevates their target to near mythical status                                                                                                                                                              |\n",
            "|Butch Cassidy and the Sundance Kid                        |In late 1890s Wyoming, Butch Cassidy is the affable, clever and talkative leader of the outlaw Hole in the Wall Gang His closest companion is the laconic dead-shot 'Sundance Kid' As the west rapidly becomes civilized, the law finally catches up to Butch, Sundance and their gang  Chased doggedly by a special posse, the two decide to make their way to South America in hopes of evading their pursuers once and for all                                           |\n",
            "|The Legend of God's Gun                                   |A gun-slinging preacher returns to the debaucherous town of Playa Diablo seeking revenge from the notorious scorpion-venom drinking bandito El Sobero - lead outlaw and number one bad guy El Sobero and his band of bad banditos are also returning to Playa Diablo seeking their own revenge against the town sheriff With the Bounty Hunter dragging up slowly behind there is sure to be a confrontation of Biblical proportions as they all meet in the circle of death|\n",
            "|Harley Davidson and the Marlboro Man                      |It's the lawless future, and renegade biker Harley Davidson (Mickey Rourke) and his surly cowboy buddy, Marlboro (Don Johnson), learn that a corrupt bank is about to foreclose on their friend's bar to further an expanding empire Harley and Marlboro decide to help by robbing the crooked bank But when they accidentally filch a drug shipment, they find themselves on the run from criminal financiers and the mob in this rugged action adventure                  |\n",
            "+----------------------------------------------------------+----------------------------------------------------------------------------------------------------------------------------------------------------------------------------------------------------------------------------------------------------------------------------------------------------------------------------------------------------------------------------------------------------------------------------------------------------------------------------+\n",
            "\n",
            "Approximately searching df for 3 nearest neighbors of query 6 (The first item listed is the queried movie):\n",
            "+-----------------------------+----------------------------------------------------------------------------------------------------------------------------------------------------------------------------------------------------------------------------------------------------------------------------------------------------------------------------------------------------------------------------------------------------------------------------------------------------+\n",
            "|title                        |Description                                                                                                                                                                                                                                                                                                                                                                                                                                         |\n",
            "+-----------------------------+----------------------------------------------------------------------------------------------------------------------------------------------------------------------------------------------------------------------------------------------------------------------------------------------------------------------------------------------------------------------------------------------------------------------------------------------------+\n",
            "|Son of God                   |The life story of Jesus is told from his humble birth through his teachings, crucifixion and ultimate resurrection                                                                                                                                                                                                                                                                                                                                  |\n",
            "|The Last Temptation of Christ|Jesus, a humble Judean carpenter beginning to see that he is the son of God, is drawn into revolutionary action against the Roman occupiers by Judas -- despite his protestations that love, not violence, is the path to salvation The burden of being the savior of mankind torments Jesus throughout his life, leading him to doubt As he is put to death on the cross, Jesus is tempted by visions of an ordinary life married to Mary Magdalene|\n",
            "|Bathory                      |Bathory is based on the legends surrounding the life and deeds of Countess Elizabeth Bathory known as the greatest murderess in the history of mankind Contrary to popular belief, Elizabeth Bathory was a modern Renaissance woman who ultimately fell victim to mens aspirations for power and wealth                                                                                                                                             |\n",
            "|Dogma                        |The latest battle in the eternal war between Good and Evil has come to New Jersey in the late, late 20th Century Angels, demons, apostles and prophets (of a sort) walk among the cynics and innocents of America and duke it out for the fate of humankind                                                                                                                                                                                         |\n",
            "+-----------------------------+----------------------------------------------------------------------------------------------------------------------------------------------------------------------------------------------------------------------------------------------------------------------------------------------------------------------------------------------------------------------------------------------------------------------------------------------------+\n",
            "\n"
          ]
        }
      ]
    },
    {
      "cell_type": "markdown",
      "source": [
        "##**Final Queries: Random Queries**"
      ],
      "metadata": {
        "id": "j3_YDb63ni5t"
      }
    },
    {
      "cell_type": "code",
      "execution_count": null,
      "metadata": {
        "id": "ZJZIWmBMD1Cz",
        "colab": {
          "base_uri": "https://localhost:8080/"
        },
        "outputId": "74b0b4bc-f5f7-43fc-f341-90e5664226bf"
      },
      "outputs": [
        {
          "output_type": "stream",
          "name": "stdout",
          "text": [
            "Approximately searching df for 3 nearest neighbors of query 1 (The first item listed is the queried movie):\n",
            "+--------------+----------------------------------------------------------------------------------------------------------------------------------------------------------------------------------------------------------------------------------------------------------------------------------------------------------------------------------------------------------------------------------------------------------------------------------------------------------------------------------------------------------------------------------------------------------------------------+\n",
            "|title         |Description                                                                                                                                                                                                                                                                                                                                                                                                                                                                                                                                                                 |\n",
            "+--------------+----------------------------------------------------------------------------------------------------------------------------------------------------------------------------------------------------------------------------------------------------------------------------------------------------------------------------------------------------------------------------------------------------------------------------------------------------------------------------------------------------------------------------------------------------------------------------+\n",
            "|Fortress      |A futuristic prison movie Protagonist and wife are nabbed at a future US emigration point with an illegal baby during population control The resulting prison experience is the subject of the movie The prison is a futuristic one run by a private corporation bent on mind control in various ways                                                                                                                                                                                                                                                                       |\n",
            "|Brick Mansions|In a dystopian Detroit, grand houses that once housed the wealthy are now homes of the city's most-dangerous criminals Surrounding the area is a giant wall to keep the rest of Detroit safe For undercover cop Damien Collier, every day is a battle against corruption as he struggles to bring his father's killer, Tremaine, to justice Meanwhile, Damien and an ex-con named Lino work together to save the city from a plot to destroy it                                                                                                                             |\n",
            "|Slam          |Slam tells the story of Ray Joshua, an original, gifted young MC trapped in a war-zone housing project known as Dodge City Unable to find a job, Ray copes with the despair and poverty of his neighborhood by using his wits and verbal talent Written by Offline Publicist Young Ray Joshua lives in the Washington, DC, district known as Dodge City, which is dominated by gang wars One day he is arrested when his drug dealer is gunned down while talking to him He is put to prison where two rival gangs, Thug Life and the Union, want to recruit him as a member|\n",
            "|Traffic       |An exploration of the United States of America's war on drugs from multiple perspectives For the new head of the Office of National Drug Control Policy, the war becomes personal when he discovers his well-educated daughter is abusing cocaine within their comfortable suburban home In Mexico, a flawed, but noble policeman agrees to testify against a powerful general in league with a cartel, and in San Diego, a drug kingpin's sheltered trophy wife must learn her husband's ruthless business after he is arrested, endangering her luxurious lifestyle       |\n",
            "+--------------+----------------------------------------------------------------------------------------------------------------------------------------------------------------------------------------------------------------------------------------------------------------------------------------------------------------------------------------------------------------------------------------------------------------------------------------------------------------------------------------------------------------------------------------------------------------------------+\n",
            "\n",
            "Approximately searching df for 3 nearest neighbors of query 2 (The first item listed is the queried movie):\n",
            "+--------------------+---------------------------------------------------------------------------------------------------------------------------------------------------------------------------------------------------------------------------------------------------------------------------------------------------------------------------------------------------------+\n",
            "|title               |Description                                                                                                                                                                                                                                                                                                                                              |\n",
            "+--------------------+---------------------------------------------------------------------------------------------------------------------------------------------------------------------------------------------------------------------------------------------------------------------------------------------------------------------------------------------------------+\n",
            "|Inglourious Basterds|\"In Nazi-occupied France during World War II, a group of Jewish-American soldiers known as \"\"The Basterds\"\" are chosen specifically to spread fear throughout the Third Reich by scalping and brutally killing Nazis The Basterds                                                                                                                        |\n",
            "|The Great Escape    |The Nazis, exasperated at the number of escapes from their prison camps by a relatively small number of Allied prisoners, relocates them to a high-security 'escape-proof' camp to sit out the remainder of the war Undaunted, the prisoners plan one of the most ambitious escape attempts of World War II Based on a true story                        |\n",
            "|Good                |\"The rise of national socialism in Germany should not be regarded as a conspiracy of madmen Millions of \"\"good\"\" people found themselves in a society spiralling into terrible chaos A film about then                                                                                                                                                   |\n",
            "|The Longest Day     |\"The retelling of June 6, 1944, from the perspectives of the Germans, US, British, Canadians, and the Free French Marshall Erwin Rommel, touring the defenses being established as part of the Reich's Atlantic Wall, notes to his officers that when the Allied invasion comes they must be stopped on the beach \"\"For the Allies as well as the Germans|\n",
            "+--------------------+---------------------------------------------------------------------------------------------------------------------------------------------------------------------------------------------------------------------------------------------------------------------------------------------------------------------------------------------------------+\n",
            "\n",
            "Approximately searching df for 3 nearest neighbors of query 3 (The first item listed is the queried movie):\n",
            "+------------------------------------+---------------------------------------------------------------------------------------------------------------------------------------------------------------------------------------------------------------------------------------------------------------------------------------------------------------------------------------------------------------------------------------------------------------------------------------------------------------------------------------------------------------------------------------------------------------------------------------------------------------------------------------------------------------------------------------------------+\n",
            "|title                               |Description                                                                                                                                                                                                                                                                                                                                                                                                                                                                                                                                                                                                                                                                                        |\n",
            "+------------------------------------+---------------------------------------------------------------------------------------------------------------------------------------------------------------------------------------------------------------------------------------------------------------------------------------------------------------------------------------------------------------------------------------------------------------------------------------------------------------------------------------------------------------------------------------------------------------------------------------------------------------------------------------------------------------------------------------------------+\n",
            "|The Wraith                          |Packard Walsh and his motorized gang control and terrorize an Arizona desert town where they force drivers to drag-race so they can 'win' their vehicles After Walsh beats the decent teenager Jamie Hankins to death after finding him with his girlfriend, a mysterious power creates Jake Kesey, an extremely cool motor-biker who has a car which is invincible Jake befriends Jamie's girlfriend Keri Johnson, takes Jamie's sweet brother Bill under his wing and manages what Sheriff Loomis couldn't; eliminate Packard's criminal gang the hard way..                                                                                                                                     |\n",
            "|The Big Hit                         |Affable hit man Melvin Smiley is constantly being scammed by his cutthroat colleagues in the life-ending business So, when he and his fellow assassins kidnap the daughter of an electronics mogul, it's naturally Melvin who takes the fall when their prime score turns sour That's because the girl is the goddaughter of the gang's ruthless crime boss But, even while dodging bullets, Melvin has to keep his real job secret from his unsuspecting fiancée, Pam                                                                                                                                                                                                                             |\n",
            "|Highway                             |Jack is caught with the wife of his employer, a Vegas thug The thug sends goons after Jack, who convinces his best friend, Pilot, to flee with him Pilot insists that they head for Seattle, but doesn't tell Jack why The goons learn from Pilot's drug source where the youths are headed, and they follow, hell bent on breaking Jack's feet On the road, Jack and Pilot give a ride to Cassie, a distressed young woman She and Jack hit it off They pick up an aging stoner headed to Seattle for Kurt Cobain's memorial, and they help a circus sideshow family Why is Pilot so set on Seattle, will the goons catch Jack, and is there any way the friends' competing needs can be resolved?|\n",
            "|Harley Davidson and the Marlboro Man|It's the lawless future, and renegade biker Harley Davidson (Mickey Rourke) and his surly cowboy buddy, Marlboro (Don Johnson), learn that a corrupt bank is about to foreclose on their friend's bar to further an expanding empire Harley and Marlboro decide to help by robbing the crooked bank But when they accidentally filch a drug shipment, they find themselves on the run from criminal financiers and the mob in this rugged action adventure                                                                                                                                                                                                                                         |\n",
            "+------------------------------------+---------------------------------------------------------------------------------------------------------------------------------------------------------------------------------------------------------------------------------------------------------------------------------------------------------------------------------------------------------------------------------------------------------------------------------------------------------------------------------------------------------------------------------------------------------------------------------------------------------------------------------------------------------------------------------------------------+\n",
            "\n"
          ]
        }
      ],
      "source": [
        "query_vec1 = movielens_bert.filter(movielens_bert.title == random_queries.collect()[0][0]).select(\"result\").collect()[0][0]\n",
        "query_vec2 = movielens_bert.filter(movielens_bert.title == random_queries.collect()[1][0]).select(\"result\").collect()[0][0]\n",
        "query_vec3 = movielens_bert.filter(movielens_bert.title == random_queries.collect()[2][0]).select(\"result\").collect()[0][0]\n",
        "\n",
        "print(\"Approximately searching df for 3 nearest neighbors of query 1 (The first item listed is the queried movie):\")\n",
        "model.approxNearestNeighbors(movielens_bert, query_vec1, 4).select(\"title\", \"Description\").show(truncate=False)\n",
        "\n",
        "print(\"Approximately searching df for 3 nearest neighbors of query 2 (The first item listed is the queried movie):\")\n",
        "model.approxNearestNeighbors(movielens_bert, query_vec2, 4).select(\"title\", \"Description\").show(truncate=False)\n",
        "\n",
        "print(\"Approximately searching df for 3 nearest neighbors of query 3 (The first item listed is the queried movie):\")\n",
        "model.approxNearestNeighbors(movielens_bert, query_vec3, 4).select(\"title\", \"Description\").show(truncate=False)"
      ]
    }
  ],
  "metadata": {
    "accelerator": "GPU",
    "colab": {
      "collapsed_sections": [],
      "machine_shape": "hm",
      "name": "BERT_Embeddings_Filter.ipynb",
      "provenance": []
    },
    "kernelspec": {
      "display_name": "Python 3",
      "name": "python3"
    },
    "language_info": {
      "name": "python"
    }
  },
  "nbformat": 4,
  "nbformat_minor": 0
}